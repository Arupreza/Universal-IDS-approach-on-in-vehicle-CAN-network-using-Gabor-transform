{
 "cells": [
  {
   "cell_type": "code",
   "execution_count": 8,
   "id": "f0571c70",
   "metadata": {},
   "outputs": [],
   "source": [
    "import pandas as pd\n",
    "import numpy as np\n",
    "from sklearn.model_selection import train_test_split\n",
    "from tensorflow.keras.models import Sequential\n",
    "from sklearn import preprocessing\n",
    "from tensorflow.keras.layers import Conv1D,Flatten,MaxPooling1D,Bidirectional,LSTM,Dropout,TimeDistributed,MaxPool1D\n",
    "from tensorflow.keras.layers import Dense,GlobalAveragePooling1D\n",
    "\n",
    "from tensorflow.keras.layers import Conv2D,Flatten,MaxPooling2D,Bidirectional,LSTM,Dropout,TimeDistributed,MaxPool2D\n",
    "from tensorflow.keras.layers import Dense,GlobalMaxPooling2D\n",
    "from tensorflow.keras.layers import RepeatVector\n",
    "from tensorflow.keras.utils import to_categorical\n",
    "from sklearn.preprocessing import LabelEncoder\n",
    "\n",
    "import matplotlib.pyplot as plt\n",
    "import os\n",
    "import pprint\n",
    "import tensorflow as tf\n",
    "from tensorflow.keras.layers import BatchNormalization\n",
    "import seaborn as sns "
   ]
  },
  {
   "cell_type": "code",
   "execution_count": 9,
   "id": "71b48936",
   "metadata": {},
   "outputs": [],
   "source": [
    "from sklearn.model_selection import train_test_split\n",
    "from tensorflow.keras.models import Sequential\n",
    "from sklearn import preprocessing\n",
    "from tensorflow.keras.layers import Conv1D,Flatten,MaxPooling1D,Bidirectional,LSTM,Dropout,TimeDistributed,MaxPool1D\n",
    "from tensorflow.keras.layers import Dense,GlobalAveragePooling1D\n",
    "from keras.layers import LeakyReLU\n",
    "from tensorflow.keras.layers import Conv2D,Flatten,MaxPooling2D,Bidirectional,LSTM,Dropout,TimeDistributed,MaxPool2D\n",
    "from tensorflow.keras.layers import Dense,GlobalMaxPooling2D\n",
    "from tensorflow.keras.layers import RepeatVector\n",
    "from tensorflow.keras.utils import to_categorical\n",
    "from sklearn.preprocessing import LabelEncoder\n",
    "import glob\n",
    "\n",
    "import matplotlib.pyplot as plt\n",
    "import os\n",
    "import pprint\n",
    "import tensorflow as tf\n",
    "from tensorflow.keras.layers import BatchNormalization\n",
    "import seaborn as sns \n",
    "from keras.utils import np_utils\n",
    "from sklearn.tree import DecisionTreeClassifier # Import Decision Tree Classifier\n",
    "from sklearn import metrics \n",
    "from sklearn.utils import shuffle\n",
    "from sklearn.model_selection import train_test_split\n",
    "import matplotlib.image as mpimg\n",
    "import matplotlib.pyplot as plt\n",
    "import numpy as np\n",
    "import pandas as pd\n",
    "import os\n",
    "from tqdm import tqdm\n",
    "import cv2\n",
    "from random import random\n",
    "from PIL import Image\n",
    "import theano"
   ]
  },
  {
   "cell_type": "code",
   "execution_count": 10,
   "id": "19b86a5b",
   "metadata": {},
   "outputs": [],
   "source": [
    "from sklearn.preprocessing import MinMaxScaler\n",
    "from sklearn.preprocessing import LabelEncoder\n",
    "from sklearn.metrics import mean_squared_error\n",
    "from sklearn.impute import SimpleImputer\n",
    "from sklearn.model_selection import train_test_split\n",
    "from keras.utils.vis_utils import plot_model"
   ]
  },
  {
   "cell_type": "code",
   "execution_count": 11,
   "id": "cb5c59ca",
   "metadata": {},
   "outputs": [],
   "source": [
    "Final = pd.read_csv(\"Concatnated.csv\")"
   ]
  },
  {
   "cell_type": "code",
   "execution_count": 12,
   "id": "07c5be12",
   "metadata": {},
   "outputs": [
    {
     "data": {
      "text/plain": [
       "292986"
      ]
     },
     "execution_count": 12,
     "metadata": {},
     "output_type": "execute_result"
    }
   ],
   "source": [
    "len(Final)"
   ]
  },
  {
   "cell_type": "code",
   "execution_count": 13,
   "id": "dd53316b",
   "metadata": {},
   "outputs": [
    {
     "name": "stdout",
     "output_type": "stream",
     "text": [
      "(292000, 447)\n"
     ]
    }
   ],
   "source": [
    "Final = np.array(Final[:292000])\n",
    "print(Final.shape)"
   ]
  },
  {
   "cell_type": "code",
   "execution_count": 14,
   "id": "bb1e7fc9",
   "metadata": {},
   "outputs": [
    {
     "name": "stdout",
     "output_type": "stream",
     "text": [
      "Old: (292, 1000, 447)\n",
      "Updated: (292000, 447)\n"
     ]
    }
   ],
   "source": [
    "Final = Final.reshape(-1,1000,Final.shape[1])\n",
    "shuffle_idx = np.random.permutation(Final.shape[0])\n",
    "Final = Final[shuffle_idx]\n",
    "print('Old:', Final.shape)\n",
    "Final = Final.reshape(292000, 447)\n",
    "print('Updated:',Final.shape)"
   ]
  },
  {
   "cell_type": "code",
   "execution_count": null,
   "id": "e80dc8ae",
   "metadata": {},
   "outputs": [],
   "source": []
  },
  {
   "cell_type": "code",
   "execution_count": 15,
   "id": "5c274411",
   "metadata": {},
   "outputs": [],
   "source": [
    "X = Final[:, :446]\n",
    "y = Final[:,446]"
   ]
  },
  {
   "cell_type": "code",
   "execution_count": 16,
   "id": "988c1369",
   "metadata": {},
   "outputs": [
    {
     "data": {
      "text/plain": [
       "(292000, 446)"
      ]
     },
     "execution_count": 16,
     "metadata": {},
     "output_type": "execute_result"
    }
   ],
   "source": [
    "#Data normalization by scalling\n",
    "scaler = MinMaxScaler(feature_range=(0, 1))\n",
    "X = scaler.fit_transform(X)\n",
    "X.shape"
   ]
  },
  {
   "cell_type": "code",
   "execution_count": 17,
   "id": "f022fad8",
   "metadata": {},
   "outputs": [
    {
     "data": {
      "text/plain": [
       "0.0    146493\n",
       "2.0     48831\n",
       "1.0     48831\n",
       "3.0     47845\n",
       "dtype: int64"
      ]
     },
     "execution_count": 17,
     "metadata": {},
     "output_type": "execute_result"
    }
   ],
   "source": [
    "pd.value_counts(y)"
   ]
  },
  {
   "cell_type": "code",
   "execution_count": 18,
   "id": "933932a0",
   "metadata": {},
   "outputs": [
    {
     "name": "stdout",
     "output_type": "stream",
     "text": [
      "291990\n",
      "291990\n"
     ]
    }
   ],
   "source": [
    "X_trainX = []\n",
    "y_trainX = []\n",
    "strat_time = 0\n",
    "timestamp = 10\n",
    "length = len(Final)\n",
    "\n",
    "for i in range(length):\n",
    "    X_trainX.append(X[strat_time:timestamp, :446])\n",
    "    y_trainX.append(y[timestamp])\n",
    "    \n",
    "    if timestamp >= 291999:\n",
    "        break\n",
    "    \n",
    "    strat_time = strat_time + 1\n",
    "    timestamp = timestamp + 1\n",
    "print(len(X_trainX))\n",
    "print(len(y_trainX))"
   ]
  },
  {
   "cell_type": "code",
   "execution_count": 19,
   "id": "2cf198fc",
   "metadata": {},
   "outputs": [],
   "source": [
    "X_train, X_test, y_train, y_test = train_test_split(X_trainX, y_trainX, test_size=0.05, random_state=0)"
   ]
  },
  {
   "cell_type": "code",
   "execution_count": 20,
   "id": "7ff88ec9",
   "metadata": {},
   "outputs": [],
   "source": [
    "X_train = np.array(X_train)\n",
    "y_train = np.array(y_train)\n",
    "X_test = np.array(X_test)\n",
    "y_test = np.array(y_test)"
   ]
  },
  {
   "cell_type": "code",
   "execution_count": 21,
   "id": "3883ba40",
   "metadata": {},
   "outputs": [
    {
     "data": {
      "text/plain": [
       "0.0    139083\n",
       "1.0     46473\n",
       "2.0     46432\n",
       "3.0     45402\n",
       "dtype: int64"
      ]
     },
     "execution_count": 21,
     "metadata": {},
     "output_type": "execute_result"
    }
   ],
   "source": [
    "pd.value_counts(y_train)"
   ]
  },
  {
   "cell_type": "code",
   "execution_count": 22,
   "id": "c0bed2fb",
   "metadata": {},
   "outputs": [],
   "source": [
    "y_train = to_categorical(y_train, 4)\n",
    "y_test = to_categorical(y_test, 4)"
   ]
  },
  {
   "cell_type": "code",
   "execution_count": 23,
   "id": "84c8cf53",
   "metadata": {},
   "outputs": [
    {
     "name": "stdout",
     "output_type": "stream",
     "text": [
      "[0. 0. 1. 0.]\n",
      "[1. 0. 0. 0.]\n",
      "[0. 1. 0. 0.]\n",
      "[0. 1. 0. 0.]\n"
     ]
    }
   ],
   "source": [
    "print(y_train[0])\n",
    "print(y_test[64])\n",
    "print(y_train[2345])\n",
    "print(y_test[97])"
   ]
  },
  {
   "cell_type": "code",
   "execution_count": 24,
   "id": "f58213df",
   "metadata": {},
   "outputs": [],
   "source": [
    "#Resape data into 3 dimention\n",
    "X_train = np.reshape(X_train, (X_train.shape[0], 10, 446, 1))\n",
    "X_test = np.reshape(X_test, (X_test.shape[0], 10, 446, 1))"
   ]
  },
  {
   "cell_type": "code",
   "execution_count": 25,
   "id": "3290976a",
   "metadata": {},
   "outputs": [
    {
     "name": "stdout",
     "output_type": "stream",
     "text": [
      "[[[6.26420715e-03]\n",
      "  [3.46753500e-03]\n",
      "  [1.24357960e-02]\n",
      "  ...\n",
      "  [6.88301896e-04]\n",
      "  [2.15896653e-05]\n",
      "  [2.30987862e-05]]\n",
      "\n",
      " [[6.27666623e-03]\n",
      "  [3.43246924e-03]\n",
      "  [1.24863026e-02]\n",
      "  ...\n",
      "  [6.86304629e-04]\n",
      "  [2.16464368e-05]\n",
      "  [2.32112929e-05]]\n",
      "\n",
      " [[6.28948837e-03]\n",
      "  [3.39735960e-03]\n",
      "  [1.25363542e-02]\n",
      "  ...\n",
      "  [6.84298432e-04]\n",
      "  [2.17030464e-05]\n",
      "  [2.33234828e-05]]\n",
      "\n",
      " ...\n",
      "\n",
      " [[6.35906148e-03]\n",
      "  [3.22137356e-03]\n",
      "  [1.27796769e-02]\n",
      "  ...\n",
      "  [6.74136070e-04]\n",
      "  [2.19835065e-05]\n",
      "  [2.38793600e-05]]\n",
      "\n",
      " [[6.37407207e-03]\n",
      "  [3.18613320e-03]\n",
      "  [1.28269334e-02]\n",
      "  ...\n",
      "  [6.72077840e-04]\n",
      "  [2.20390486e-05]\n",
      "  [2.39894571e-05]]\n",
      "\n",
      " [[6.38944923e-03]\n",
      "  [3.15089335e-03]\n",
      "  [1.28737139e-02]\n",
      "  ...\n",
      "  [6.70011197e-04]\n",
      "  [2.20943966e-05]\n",
      "  [2.40991735e-05]]]\n",
      "\n",
      "\n",
      "[0. 0. 1. 0.]\n"
     ]
    }
   ],
   "source": [
    "print(X_train[0])\n",
    "print('\\n')\n",
    "print(y_train[0])"
   ]
  },
  {
   "cell_type": "code",
   "execution_count": 26,
   "id": "37aba7fd",
   "metadata": {},
   "outputs": [
    {
     "name": "stdout",
     "output_type": "stream",
     "text": [
      "Model: \"sequential\"\n",
      "_________________________________________________________________\n",
      " Layer (type)                Output Shape              Param #   \n",
      "=================================================================\n",
      " conv2d (Conv2D)             (None, 10, 446, 32)       320       \n",
      "                                                                 \n",
      " leaky_re_lu (LeakyReLU)     (None, 10, 446, 32)       0         \n",
      "                                                                 \n",
      " max_pooling2d (MaxPooling2D  (None, 5, 223, 32)       0         \n",
      " )                                                               \n",
      "                                                                 \n",
      " dropout (Dropout)           (None, 5, 223, 32)        0         \n",
      "                                                                 \n",
      " conv2d_1 (Conv2D)           (None, 5, 223, 64)        18496     \n",
      "                                                                 \n",
      " leaky_re_lu_1 (LeakyReLU)   (None, 5, 223, 64)        0         \n",
      "                                                                 \n",
      " max_pooling2d_1 (MaxPooling  (None, 3, 112, 64)       0         \n",
      " 2D)                                                             \n",
      "                                                                 \n",
      " dropout_1 (Dropout)         (None, 3, 112, 64)        0         \n",
      "                                                                 \n",
      " conv2d_2 (Conv2D)           (None, 3, 112, 128)       73856     \n",
      "                                                                 \n",
      " leaky_re_lu_2 (LeakyReLU)   (None, 3, 112, 128)       0         \n",
      "                                                                 \n",
      " max_pooling2d_2 (MaxPooling  (None, 2, 56, 128)       0         \n",
      " 2D)                                                             \n",
      "                                                                 \n",
      " dropout_2 (Dropout)         (None, 2, 56, 128)        0         \n",
      "                                                                 \n",
      " flatten (Flatten)           (None, 14336)             0         \n",
      "                                                                 \n",
      " dense (Dense)               (None, 128)               1835136   \n",
      "                                                                 \n",
      " leaky_re_lu_3 (LeakyReLU)   (None, 128)               0         \n",
      "                                                                 \n",
      " dropout_3 (Dropout)         (None, 128)               0         \n",
      "                                                                 \n",
      " dense_1 (Dense)             (None, 4)                 516       \n",
      "                                                                 \n",
      "=================================================================\n",
      "Total params: 1,928,324\n",
      "Trainable params: 1,928,324\n",
      "Non-trainable params: 0\n",
      "_________________________________________________________________\n"
     ]
    }
   ],
   "source": [
    "model = Sequential()\n",
    "model.add(Conv2D(32, kernel_size=(3, 3),activation='ReLU',padding='same',input_shape=(10, 446, 1)))\n",
    "model.add(LeakyReLU(alpha=0.1))\n",
    "model.add(MaxPooling2D((2, 2),padding='same'))\n",
    "model.add(Dropout(0.1))\n",
    "\n",
    "model.add(Conv2D(64, (3, 3), activation='ReLU',padding='same'))\n",
    "model.add(LeakyReLU(alpha=0.1))\n",
    "model.add(MaxPooling2D(pool_size=(2, 2),padding='same'))\n",
    "model.add(Dropout(0.1))\n",
    "\n",
    "model.add(Conv2D(128, (3, 3), activation='ReLU',padding='same'))\n",
    "model.add(LeakyReLU(alpha=0.1))                  \n",
    "model.add(MaxPooling2D(pool_size=(2, 2),padding='same'))\n",
    "model.add(Dropout(0.1))\n",
    "model.add(Flatten())\n",
    "\n",
    "model.add(Dense(128, activation='ReLU'))\n",
    "model.add(LeakyReLU(alpha=0.1))           \n",
    "model.add(Dropout(0.1))\n",
    "model.add(Dense(4, activation='softmax'))\n",
    "\n",
    "optimizer = tf.keras.optimizers.RMSprop(learning_rate=0.0001)\n",
    "\n",
    "model.compile(optimizer = optimizer, loss = 'categorical_crossentropy', metrics=['acc'])\n",
    "\n",
    "model.summary()"
   ]
  },
  {
   "cell_type": "code",
   "execution_count": 27,
   "id": "e8b3f666",
   "metadata": {},
   "outputs": [],
   "source": [
    "cp = tf.keras.callbacks.ModelCheckpoint(filepath=\"1CNN.h5\",\n",
    "                               mode='min', monitor='val_loss', verbose=0, save_best_only=True)\n",
    "# define our early stopping\n",
    "early_stop = tf.keras.callbacks.EarlyStopping(\n",
    "    monitor='val_loss',\n",
    "    min_delta=0.0001,\n",
    "    patience=10,\n",
    "    verbose=1, \n",
    "    mode='min',\n",
    "    restore_best_weights=True)"
   ]
  },
  {
   "cell_type": "code",
   "execution_count": 28,
   "id": "ff273f02",
   "metadata": {},
   "outputs": [
    {
     "name": "stdout",
     "output_type": "stream",
     "text": [
      "Epoch 1/5\n",
      "8669/8669 [==============================] - 77s 9ms/step - loss: 0.0880 - acc: 0.9844 - val_loss: 0.0245 - val_acc: 0.9973\n",
      "Epoch 2/5\n",
      "8669/8669 [==============================] - 74s 9ms/step - loss: 0.0241 - acc: 0.9971 - val_loss: 0.0178 - val_acc: 0.9977\n",
      "Epoch 3/5\n",
      "8669/8669 [==============================] - 75s 9ms/step - loss: 0.0200 - acc: 0.9980 - val_loss: 0.0208 - val_acc: 0.9979\n",
      "Epoch 4/5\n",
      "8669/8669 [==============================] - 75s 9ms/step - loss: 0.0213 - acc: 0.9982 - val_loss: 0.0142 - val_acc: 0.9981\n",
      "Epoch 5/5\n",
      "8669/8669 [==============================] - 74s 9ms/step - loss: 0.0217 - acc: 0.9982 - val_loss: 0.0194 - val_acc: 0.9984\n"
     ]
    }
   ],
   "source": [
    "history = model.fit(X_train, y_train,\n",
    "                    epochs=5,\n",
    "                    batch_size=32,\n",
    "                    shuffle=True,\n",
    "                    validation_data=(X_test, y_test),\n",
    "                    verbose=1,\n",
    "                    callbacks=[cp, early_stop]\n",
    "                    ).history"
   ]
  },
  {
   "cell_type": "code",
   "execution_count": 29,
   "id": "3b1a01ed",
   "metadata": {},
   "outputs": [
    {
     "data": {
      "image/png": "[encoded data removed]",
      "text/plain": [
       "<Figure size 640x480 with 1 Axes>"
      ]
     },
     "metadata": {
      "needs_background": "light"
     },
     "output_type": "display_data"
    }
   ],
   "source": [
    "# plot the training losses\n",
    "fig, ax = plt.subplots(figsize=(8, 6), dpi=80)\n",
    "ax.plot(model.history.history['loss'], 'b', label='Train', linewidth=2)\n",
    "ax.plot(model.history.history['val_loss'], 'r', label='Validation', linewidth=2)\n",
    "ax.set_title('Model loss', fontsize=16)\n",
    "ax.set_ylabel('Loss (mae)')\n",
    "ax.set_xlabel('Epoch')\n",
    "ax.legend(loc='upper right')\n",
    "plt.show()"
   ]
  },
  {
   "cell_type": "code",
   "execution_count": 30,
   "id": "712bfa68",
   "metadata": {},
   "outputs": [],
   "source": [
    "#Prediction\n",
    "pred = model.predict(X_test)\n",
    "#obj = scaler.fit(y_pred)\n",
    "#predicted = obj.inverse_transform(y_pred)"
   ]
  },
  {
   "cell_type": "code",
   "execution_count": 31,
   "id": "b8f66f86",
   "metadata": {},
   "outputs": [
    {
     "name": "stdout",
     "output_type": "stream",
     "text": [
      "[[7387    1    0   12]\n",
      " [   3 2352    1    2]\n",
      " [   2    0 2397    0]\n",
      " [   2    0    1 2440]]\n"
     ]
    }
   ],
   "source": [
    "from sklearn.metrics import confusion_matrix\n",
    "\n",
    "y_pred = np.argmax(pred, axis=1)\n",
    "# label\n",
    "y_test = np.argmax(y_test, axis=1)\n",
    "#Get the confusion matrix\n",
    "cf_matrix = confusion_matrix(y_test, y_pred)\n",
    "\n",
    "print(cf_matrix)"
   ]
  },
  {
   "cell_type": "code",
   "execution_count": 32,
   "id": "803ca351",
   "metadata": {},
   "outputs": [
    {
     "data": {
      "image/png": "[encoded data removed]",
      "text/plain": [
       "<Figure size 842.4x595.44 with 2 Axes>"
      ]
     },
     "metadata": {},
     "output_type": "display_data"
    }
   ],
   "source": [
    "#group_names = ['True Neg','False Pos','False Neg','True Pos','True Pos','True Pos','True Pos','True Pos','True Pos']\n",
    "\n",
    "group_counts = [\"{0:0.0f}\".format(value) for value in\n",
    "                cf_matrix.flatten()]\n",
    "\n",
    "group_percentages = [\"{0:.2%}\".format(value) for value in\n",
    "                     cf_matrix.flatten()/np.sum(cf_matrix)]\n",
    "\n",
    "labels = [f\"{v1}\\n{v2}\\n\" for v1, v2 in\n",
    "          zip(group_counts,group_percentages)]\n",
    "\n",
    "labels = np.asarray(labels).reshape(4,4)\n",
    "sns.set(rc={'figure.figsize':(11.7,8.27)})\n",
    "ax = sns.heatmap(cf_matrix, annot=labels, fmt='', cmap='Blues')\n",
    "\n",
    "ax.set_title('Fig. 4. (a). Confusion Matrix with labels', fontsize=18);\n",
    "ax.set_xlabel('\\nActual Category', fontsize=15)\n",
    "ax.set_ylabel('Predicted Category ', fontsize=15);\n",
    "\n",
    "## Ticket labels - List must be in alphabetical order\n",
    "ax.xaxis.set_ticklabels([\"Normal\", \"DoS\", \"Fuzz\", \"Replay\"])\n",
    "ax.yaxis.set_ticklabels([\"Normal\", \"DoS\", \"Fuzz\", \"Replay\"])\n",
    "\n",
    "## Display the visualization of the Confusion Matrix.\n",
    "plt.show()"
   ]
  },
  {
   "cell_type": "code",
   "execution_count": 33,
   "id": "8fe4d343",
   "metadata": {},
   "outputs": [
    {
     "name": "stdout",
     "output_type": "stream",
     "text": [
      "              precision    recall  f1-score   support\n",
      "\n",
      "      Normal       1.00      1.00      1.00      7400\n",
      "         DoS       1.00      1.00      1.00      2358\n",
      "        Fuzz       1.00      1.00      1.00      2399\n",
      "      Replay       0.99      1.00      1.00      2443\n",
      "\n",
      "    accuracy                           1.00     14600\n",
      "   macro avg       1.00      1.00      1.00     14600\n",
      "weighted avg       1.00      1.00      1.00     14600\n",
      "\n"
     ]
    }
   ],
   "source": [
    "from sklearn.metrics import classification_report\n",
    "class_names = [\"Normal\", \"DoS\", \"Fuzz\", \"Replay\"]\n",
    "print(classification_report(y_test, y_pred, target_names=class_names))"
   ]
  },
  {
   "cell_type": "code",
   "execution_count": 34,
   "id": "8b480dcf",
   "metadata": {},
   "outputs": [
    {
     "name": "stdout",
     "output_type": "stream",
     "text": [
      "ROC AUC score: 0.9989084507256974\n"
     ]
    },
    {
     "data": {
      "image/png": "[encoded data removed]",
      "text/plain": [
       "<Figure size 864x576 with 1 Axes>"
      ]
     },
     "metadata": {},
     "output_type": "display_data"
    }
   ],
   "source": [
    "import matplotlib.pyplot as plt \n",
    "from sklearn.preprocessing import LabelBinarizer\n",
    "from sklearn.metrics import roc_curve, auc, roc_auc_score\n",
    "\n",
    "\n",
    "target= [\"Normal\", \"DoS\", \"Fuzz\", \"Replay\"]\n",
    "\n",
    "# set plot figure size\n",
    "fig, c_ax = plt.subplots(1,1, figsize = (12, 8))\n",
    "\n",
    "# function for scoring roc auc score for multi-class\n",
    "def multiclass_roc_auc_score(y_test, y_pred, average=\"macro\"):\n",
    "    lb = LabelBinarizer()\n",
    "    lb.fit(y_test)\n",
    "    y_test = lb.transform(y_test)\n",
    "    y_pred = lb.transform(y_pred)\n",
    "\n",
    "    for (idx, c_label) in enumerate(target):\n",
    "        fpr, tpr, thresholds = roc_curve(y_test[:,idx].astype(int), y_pred[:,idx])\n",
    "        c_ax.plot(fpr, tpr, label = '%s (AUC:%0.2f)'  % (c_label, auc(fpr, tpr)))\n",
    "    c_ax.plot(fpr, fpr, 'b-', label = 'Random Guessing')\n",
    "    return roc_auc_score(y_test, y_pred, average=average)\n",
    "\n",
    "\n",
    "print('ROC AUC score:', multiclass_roc_auc_score(y_test, y_pred))\n",
    "\n",
    "c_ax.legend()\n",
    "c_ax.set_title('Fig. 4. (b). ROC Score', fontsize=18);\n",
    "c_ax.set_xlabel('False Positive Rate', fontsize=15)\n",
    "c_ax.set_ylabel('True Positive Rate', fontsize=15)\n",
    "plt.show()"
   ]
  },
  {
   "cell_type": "code",
   "execution_count": null,
   "id": "d3164716",
   "metadata": {},
   "outputs": [],
   "source": []
  },
  {
   "cell_type": "code",
   "execution_count": null,
   "id": "9a3e2b12",
   "metadata": {},
   "outputs": [],
   "source": []
  }
 ],
 "metadata": {
  "kernelspec": {
   "display_name": "Python 3 (ipykernel)",
   "language": "python",
   "name": "python3"
  },
  "language_info": {
   "codemirror_mode": {
    "name": "ipython",
    "version": 3
   },
   "file_extension": ".py",
   "mimetype": "text/x-python",
   "name": "python",
   "nbconvert_exporter": "python",
   "pygments_lexer": "ipython3",
   "version": "3.9.7"
  }
 },
 "nbformat": 4,
 "nbformat_minor": 5
}
