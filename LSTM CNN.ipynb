{
 "cells": [
  {
   "cell_type": "code",
   "execution_count": 1,
   "id": "f0571c70",
   "metadata": {},
   "outputs": [],
   "source": [
    "import pandas as pd\n",
    "import numpy as np\n",
    "from sklearn.model_selection import train_test_split\n",
    "\n",
    "from tensorflow.keras.models import Sequential\n",
    "from tensorflow.keras.layers import Conv1D,Flatten,MaxPooling1D,Bidirectional,LSTM,Dropout,TimeDistributed,MaxPool1D\n",
    "from tensorflow.keras.layers import Dense,GlobalAveragePooling1D\n",
    "from tensorflow.keras.layers import Conv2D,Flatten,MaxPooling2D,Bidirectional,LSTM,Dropout,TimeDistributed,MaxPool2D\n",
    "from tensorflow.keras.layers import Dense,GlobalMaxPooling2D\n",
    "from tensorflow.keras.layers import RepeatVector\n",
    "from tensorflow.keras.utils import to_categorical\n",
    "from tensorflow.keras.layers import BatchNormalization\n",
    "\n",
    "from sklearn.preprocessing import LabelEncoder\n",
    "from sklearn import preprocessing\n",
    "\n",
    "import matplotlib.pyplot as plt\n",
    "import os\n",
    "import pprint\n",
    "import tensorflow as tf\n",
    "\n",
    "import seaborn as sns "
   ]
  },
  {
   "cell_type": "code",
   "execution_count": 2,
   "id": "19b86a5b",
   "metadata": {},
   "outputs": [],
   "source": [
    "from sklearn.preprocessing import MinMaxScaler\n",
    "from sklearn.preprocessing import LabelEncoder\n",
    "from sklearn.model_selection import train_test_split\n",
    "from keras.utils.vis_utils import plot_model\n",
    "\n",
    "from sklearn.metrics import mean_squared_error\n",
    "from sklearn.impute import SimpleImputer"
   ]
  },
  {
   "cell_type": "code",
   "execution_count": 3,
   "id": "cb5c59ca",
   "metadata": {},
   "outputs": [],
   "source": [
    "Final = pd.read_csv(\"Concatnated.csv\")"
   ]
  },
  {
   "cell_type": "code",
   "execution_count": 4,
   "id": "fa068595",
   "metadata": {},
   "outputs": [
    {
     "data": {
      "text/plain": [
       "(292986, 447)"
      ]
     },
     "execution_count": 4,
     "metadata": {},
     "output_type": "execute_result"
    }
   ],
   "source": [
    "Final.shape"
   ]
  },
  {
   "cell_type": "code",
   "execution_count": 5,
   "id": "0b717e20",
   "metadata": {},
   "outputs": [
    {
     "name": "stdout",
     "output_type": "stream",
     "text": [
      "(292000, 447)\n"
     ]
    }
   ],
   "source": [
    "Final = np.array(Final[:292000])\n",
    "print(Final.shape)"
   ]
  },
  {
   "cell_type": "code",
   "execution_count": 6,
   "id": "bb1e7fc9",
   "metadata": {},
   "outputs": [],
   "source": [
    "Final = Final.reshape(-1,1000,Final.shape[1])\n",
    "shuffle_idx = np.random.permutation(Final.shape[0])\n",
    "Final = Final[shuffle_idx]"
   ]
  },
  {
   "cell_type": "code",
   "execution_count": 7,
   "id": "5c274411",
   "metadata": {},
   "outputs": [
    {
     "name": "stdout",
     "output_type": "stream",
     "text": [
      "Old: (292, 1000, 447)\n",
      "Updated: (292000, 447)\n"
     ]
    }
   ],
   "source": [
    "print('Old:', Final.shape)\n",
    "Final = Final.reshape(292000, 447)\n",
    "print('Updated:',Final.shape)"
   ]
  },
  {
   "cell_type": "code",
   "execution_count": 8,
   "id": "988c1369",
   "metadata": {},
   "outputs": [],
   "source": [
    "X = Final[:, :446]\n",
    "y = Final[:,446]"
   ]
  },
  {
   "cell_type": "code",
   "execution_count": 9,
   "id": "51e57b4c",
   "metadata": {},
   "outputs": [
    {
     "data": {
      "text/plain": [
       "(292000, 446)"
      ]
     },
     "execution_count": 9,
     "metadata": {},
     "output_type": "execute_result"
    }
   ],
   "source": [
    "#Data normalization by scalling\n",
    "scaler = MinMaxScaler(feature_range=(0, 1))\n",
    "X = scaler.fit_transform(X)\n",
    "X.shape"
   ]
  },
  {
   "cell_type": "code",
   "execution_count": 28,
   "id": "8708df08",
   "metadata": {},
   "outputs": [
    {
     "name": "stdout",
     "output_type": "stream",
     "text": [
      "291990\n",
      "291990\n"
     ]
    }
   ],
   "source": [
    "X_trainX = []\n",
    "y_trainX = []\n",
    "strat_time = 0\n",
    "timestamp = 10\n",
    "length = len(Final)\n",
    "\n",
    "for i in range(length):\n",
    "    X_trainX.append(X[strat_time:timestamp, :446])\n",
    "    y_trainX.append(y[timestamp])\n",
    "    \n",
    "    if timestamp >= 291999:\n",
    "        break\n",
    "    \n",
    "    strat_time = strat_time + 1\n",
    "    timestamp = timestamp + 1\n",
    "print(len(X_trainX))\n",
    "print(len(y_trainX))"
   ]
  },
  {
   "cell_type": "code",
   "execution_count": 29,
   "id": "2cf198fc",
   "metadata": {},
   "outputs": [],
   "source": [
    "X_train, X_test, y_train, y_test = train_test_split(X, y, test_size=0.05, random_state=0)"
   ]
  },
  {
   "cell_type": "code",
   "execution_count": 30,
   "id": "7ff88ec9",
   "metadata": {},
   "outputs": [],
   "source": [
    "X_train = np.array(X_train)\n",
    "y_train = np.array(y_train)\n",
    "X_test = np.array(X_test)\n",
    "y_test = np.array(y_test)"
   ]
  },
  {
   "cell_type": "code",
   "execution_count": 31,
   "id": "9edad9f3",
   "metadata": {},
   "outputs": [
    {
     "data": {
      "text/plain": [
       "(277400, 446)"
      ]
     },
     "execution_count": 31,
     "metadata": {},
     "output_type": "execute_result"
    }
   ],
   "source": [
    "X_train.shape"
   ]
  },
  {
   "cell_type": "code",
   "execution_count": 32,
   "id": "3883ba40",
   "metadata": {},
   "outputs": [
    {
     "data": {
      "text/plain": [
       "0.0    139200\n",
       "1.0     46375\n",
       "2.0     46349\n",
       "3.0     45476\n",
       "dtype: int64"
      ]
     },
     "execution_count": 32,
     "metadata": {},
     "output_type": "execute_result"
    }
   ],
   "source": [
    "pd.value_counts(y_train)"
   ]
  },
  {
   "cell_type": "code",
   "execution_count": 33,
   "id": "c0bed2fb",
   "metadata": {},
   "outputs": [],
   "source": [
    "y_train = to_categorical(y_train, 4)\n",
    "y_test = to_categorical(y_test, 4)"
   ]
  },
  {
   "cell_type": "code",
   "execution_count": 34,
   "id": "84c8cf53",
   "metadata": {},
   "outputs": [],
   "source": [
    "#Resape data into 3 dimention\n",
    "X_train = np.reshape(X_train, (X_train.shape[0], 1, 446, 1))\n",
    "X_test = np.reshape(X_test, (X_test.shape[0], 1, 446, 1))"
   ]
  },
  {
   "cell_type": "code",
   "execution_count": 35,
   "id": "5fdaa1f2",
   "metadata": {},
   "outputs": [
    {
     "data": {
      "text/plain": [
       "(277400, 1, 446, 1)"
      ]
     },
     "execution_count": 35,
     "metadata": {},
     "output_type": "execute_result"
    }
   ],
   "source": [
    "X_train.shape"
   ]
  },
  {
   "cell_type": "code",
   "execution_count": 36,
   "id": "3290976a",
   "metadata": {},
   "outputs": [
    {
     "name": "stdout",
     "output_type": "stream",
     "text": [
      "[[[7.31366464e-02]\n",
      "  [9.62808231e-03]\n",
      "  [8.58695517e-03]\n",
      "  [3.73811935e-02]\n",
      "  [7.76952412e-03]\n",
      "  [7.26704796e-03]\n",
      "  [2.79208773e-03]\n",
      "  [1.16987178e-02]\n",
      "  [6.35909536e-03]\n",
      "  [8.10407703e-03]\n",
      "  [5.52959639e-02]\n",
      "  [3.78314016e-04]\n",
      "  [8.35528792e-03]\n",
      "  [7.73025512e-03]\n",
      "  [2.91243253e-04]\n",
      "  [1.11722689e-01]\n",
      "  [1.87332686e-03]\n",
      "  [5.98524747e-04]\n",
      "  [4.12254513e-04]\n",
      "  [1.16065641e-02]\n",
      "  [9.38256412e-03]\n",
      "  [6.39364795e-02]\n",
      "  [8.67382124e-03]\n",
      "  [8.52354922e-02]\n",
      "  [5.11065419e-03]\n",
      "  [5.28403634e-03]\n",
      "  [3.33716263e-02]\n",
      "  [3.89078579e-02]\n",
      "  [3.77582333e-01]\n",
      "  [9.97063411e-03]\n",
      "  [1.26819344e-01]\n",
      "  [1.14962091e-01]\n",
      "  [6.19994531e-02]\n",
      "  [3.18956927e-01]\n",
      "  [1.51458550e-01]\n",
      "  [9.14495970e-02]\n",
      "  [6.53316527e-02]\n",
      "  [1.89607755e-03]\n",
      "  [4.45332670e-02]\n",
      "  [6.80698475e-03]\n",
      "  [3.48295917e-03]\n",
      "  [3.57661748e-03]\n",
      "  [6.39808193e-05]\n",
      "  [6.74959244e-04]\n",
      "  [4.45467553e-03]\n",
      "  [1.00539329e-02]\n",
      "  [4.11518404e-04]\n",
      "  [1.37930944e-03]\n",
      "  [3.47423672e-02]\n",
      "  [1.40297101e-01]\n",
      "  [2.40322647e-01]\n",
      "  [1.62601740e-01]\n",
      "  [4.73956579e-02]\n",
      "  [1.43916085e-01]\n",
      "  [8.54723227e-02]\n",
      "  [2.73761363e-01]\n",
      "  [2.90079606e-02]\n",
      "  [1.71508388e-01]\n",
      "  [2.72213247e-02]\n",
      "  [6.59920111e-02]\n",
      "  [2.28527829e-02]\n",
      "  [3.39699105e-01]\n",
      "  [2.78355190e-01]\n",
      "  [1.15319583e-02]\n",
      "  [4.68600466e-03]\n",
      "  [8.39187125e-02]\n",
      "  [4.77791761e-01]\n",
      "  [3.35012776e-02]\n",
      "  [2.06119005e-01]\n",
      "  [6.43240077e-02]\n",
      "  [1.70369007e-01]\n",
      "  [6.73223225e-02]\n",
      "  [3.03929065e-02]\n",
      "  [6.60708775e-02]\n",
      "  [5.90286468e-02]\n",
      "  [1.29430945e-01]\n",
      "  [8.50098953e-02]\n",
      "  [2.09473015e-02]\n",
      "  [1.46991458e-02]\n",
      "  [1.24781634e-01]\n",
      "  [1.56916670e-02]\n",
      "  [6.28411504e-03]\n",
      "  [6.21997861e-01]\n",
      "  [1.90831786e-01]\n",
      "  [1.21978876e-03]\n",
      "  [6.34307411e-02]\n",
      "  [3.82259159e-02]\n",
      "  [2.16557768e-01]\n",
      "  [5.74651741e-02]\n",
      "  [4.78931948e-03]\n",
      "  [7.86000909e-02]\n",
      "  [7.15065286e-04]\n",
      "  [4.76813435e-03]\n",
      "  [1.43951598e-01]\n",
      "  [3.60529187e-02]\n",
      "  [2.49494650e-01]\n",
      "  [3.67115005e-02]\n",
      "  [1.53480687e-01]\n",
      "  [4.21170730e-02]\n",
      "  [5.13038094e-02]\n",
      "  [5.96445858e-02]\n",
      "  [2.30909346e-02]\n",
      "  [9.51347080e-02]\n",
      "  [1.14414394e-02]\n",
      "  [1.38421096e-01]\n",
      "  [2.21303655e-02]\n",
      "  [3.66102738e-01]\n",
      "  [1.81859312e-02]\n",
      "  [3.34883385e-02]\n",
      "  [3.94556767e-02]\n",
      "  [7.43889473e-02]\n",
      "  [1.01882076e-01]\n",
      "  [4.48361050e-04]\n",
      "  [4.17840146e-02]\n",
      "  [1.95986386e-01]\n",
      "  [2.16060228e-02]\n",
      "  [1.27391695e-01]\n",
      "  [1.02260305e-01]\n",
      "  [3.49283770e-02]\n",
      "  [3.47108453e-01]\n",
      "  [2.76174073e-02]\n",
      "  [1.21828441e-01]\n",
      "  [5.46575142e-01]\n",
      "  [2.30161126e-02]\n",
      "  [1.12073578e-02]\n",
      "  [2.83321416e-01]\n",
      "  [6.45531162e-03]\n",
      "  [4.03866106e-05]\n",
      "  [1.29080901e-01]\n",
      "  [3.12213492e-01]\n",
      "  [2.86339151e-02]\n",
      "  [2.18446047e-02]\n",
      "  [1.99054949e-02]\n",
      "  [5.97861307e-02]\n",
      "  [1.44455998e-01]\n",
      "  [8.23348336e-02]\n",
      "  [7.56263331e-02]\n",
      "  [3.78545008e-02]\n",
      "  [2.30912532e-02]\n",
      "  [5.08717858e-02]\n",
      "  [3.78613538e-02]\n",
      "  [1.26081420e-01]\n",
      "  [2.21056004e-03]\n",
      "  [1.15476530e-01]\n",
      "  [1.68014376e-01]\n",
      "  [8.40095960e-02]\n",
      "  [1.35760226e-02]\n",
      "  [4.79224069e-02]\n",
      "  [5.92921368e-02]\n",
      "  [2.73829668e-02]\n",
      "  [4.29840991e-02]\n",
      "  [1.37044841e-02]\n",
      "  [3.42694582e-02]\n",
      "  [3.77863937e-02]\n",
      "  [9.44102240e-02]\n",
      "  [5.82281261e-01]\n",
      "  [1.12069113e-02]\n",
      "  [7.67776203e-02]\n",
      "  [4.90863341e-02]\n",
      "  [6.15084773e-02]\n",
      "  [8.63947135e-04]\n",
      "  [3.20473774e-02]\n",
      "  [2.17282348e-02]\n",
      "  [7.21105539e-03]\n",
      "  [2.50760400e-02]\n",
      "  [3.67241334e-02]\n",
      "  [2.23639114e-01]\n",
      "  [2.21122304e-01]\n",
      "  [5.45387066e-02]\n",
      "  [1.67342699e-02]\n",
      "  [5.46483893e-02]\n",
      "  [4.88120028e-02]\n",
      "  [1.74362902e-03]\n",
      "  [3.93300302e-02]\n",
      "  [2.44514068e-01]\n",
      "  [9.62359896e-02]\n",
      "  [6.47823233e-03]\n",
      "  [7.89012009e-02]\n",
      "  [7.77160728e-02]\n",
      "  [1.46457611e-01]\n",
      "  [4.32453481e-02]\n",
      "  [4.82853535e-02]\n",
      "  [5.42983259e-02]\n",
      "  [6.29258651e-02]\n",
      "  [1.13482783e-01]\n",
      "  [2.52144176e-02]\n",
      "  [3.61419227e-02]\n",
      "  [9.68713841e-03]\n",
      "  [6.33693689e-02]\n",
      "  [1.30174133e-02]\n",
      "  [6.14918036e-02]\n",
      "  [1.09244213e-01]\n",
      "  [1.14394114e-01]\n",
      "  [3.86328679e-01]\n",
      "  [3.03047141e-01]\n",
      "  [1.39284797e-02]\n",
      "  [3.26081058e-01]\n",
      "  [9.76262470e-02]\n",
      "  [1.86140921e-01]\n",
      "  [4.08892390e-02]\n",
      "  [5.78705857e-02]\n",
      "  [6.11525877e-02]\n",
      "  [7.08465812e-02]\n",
      "  [2.32445357e-01]\n",
      "  [2.64298912e-02]\n",
      "  [1.57913420e-01]\n",
      "  [8.18889705e-02]\n",
      "  [1.97402515e-02]\n",
      "  [1.40234060e-02]\n",
      "  [4.37866514e-02]\n",
      "  [2.07327000e-01]\n",
      "  [7.82909932e-02]\n",
      "  [1.47784671e-01]\n",
      "  [6.96164616e-02]\n",
      "  [3.47475462e-02]\n",
      "  [1.34128200e-01]\n",
      "  [2.92136268e-01]\n",
      "  [1.26581386e-01]\n",
      "  [9.66761112e-02]\n",
      "  [2.81364698e-01]\n",
      "  [5.60724592e-02]\n",
      "  [1.27296692e-02]\n",
      "  [1.70753701e-01]\n",
      "  [1.65933580e-05]\n",
      "  [4.83557270e-07]\n",
      "  [1.69562279e-06]\n",
      "  [4.78457524e-06]\n",
      "  [1.28750786e-06]\n",
      "  [7.73315890e-08]\n",
      "  [7.06029513e-08]\n",
      "  [1.09461445e-08]\n",
      "  [2.29023575e-07]\n",
      "  [3.15458701e-06]\n",
      "  [3.56542468e-06]\n",
      "  [1.15533867e-06]\n",
      "  [6.29543154e-07]\n",
      "  [2.49915861e-08]\n",
      "  [5.59133701e-09]\n",
      "  [1.66634532e-07]\n",
      "  [8.63175995e-08]\n",
      "  [7.01468576e-07]\n",
      "  [3.05898073e-06]\n",
      "  [5.04382865e-04]\n",
      "  [7.34045579e-05]\n",
      "  [2.52931566e-06]\n",
      "  [1.32011940e-07]\n",
      "  [2.20065238e-08]\n",
      "  [1.08585113e-07]\n",
      "  [6.07940327e-08]\n",
      "  [8.80302255e-08]\n",
      "  [1.37670372e-05]\n",
      "  [6.39923153e-06]\n",
      "  [3.71628668e-07]\n",
      "  [2.78002164e-06]\n",
      "  [4.47004545e-07]\n",
      "  [3.79395700e-07]\n",
      "  [2.83353989e-06]\n",
      "  [3.65321831e-07]\n",
      "  [1.03405607e-06]\n",
      "  [3.55191788e-06]\n",
      "  [1.23469115e-05]\n",
      "  [1.72739916e-05]\n",
      "  [5.53406706e-07]\n",
      "  [4.15265690e-08]\n",
      "  [3.42989045e-07]\n",
      "  [1.05812733e-06]\n",
      "  [3.50556304e-06]\n",
      "  [3.97329650e-05]\n",
      "  [1.35584480e-04]\n",
      "  [2.28778855e-05]\n",
      "  [8.80644079e-06]\n",
      "  [4.56159333e-07]\n",
      "  [9.28141583e-08]\n",
      "  [1.62895126e-06]\n",
      "  [4.03218709e-05]\n",
      "  [6.32862525e-07]\n",
      "  [4.10560296e-05]\n",
      "  [2.75107891e-05]\n",
      "  [4.52642360e-05]\n",
      "  [5.85681111e-06]\n",
      "  [2.20886781e-06]\n",
      "  [2.19858636e-06]\n",
      "  [7.18542043e-06]\n",
      "  [1.32637962e-05]\n",
      "  [1.04190103e-04]\n",
      "  [1.80750135e-04]\n",
      "  [4.39267791e-06]\n",
      "  [1.12398810e-06]\n",
      "  [1.73804897e-06]\n",
      "  [1.00254822e-05]\n",
      "  [2.49221368e-06]\n",
      "  [6.15458283e-06]\n",
      "  [8.40890802e-06]\n",
      "  [9.19423299e-04]\n",
      "  [2.45633760e-04]\n",
      "  [1.49618615e-03]\n",
      "  [2.42505360e-04]\n",
      "  [2.37424791e-05]\n",
      "  [2.52451459e-05]\n",
      "  [2.31423111e-06]\n",
      "  [1.67174538e-05]\n",
      "  [4.87363032e-04]\n",
      "  [1.24969035e-04]\n",
      "  [1.30181689e-04]\n",
      "  [1.65626003e-04]\n",
      "  [3.19265468e-04]\n",
      "  [3.71755540e-06]\n",
      "  [9.86943516e-06]\n",
      "  [2.74887513e-05]\n",
      "  [1.59549382e-06]\n",
      "  [1.83308211e-05]\n",
      "  [9.53265078e-06]\n",
      "  [5.16399366e-06]\n",
      "  [1.51051142e-06]\n",
      "  [1.98982513e-04]\n",
      "  [1.85369275e-04]\n",
      "  [2.77318461e-06]\n",
      "  [5.48078329e-04]\n",
      "  [3.98858715e-05]\n",
      "  [1.40289876e-06]\n",
      "  [6.65567365e-06]\n",
      "  [3.25685596e-06]\n",
      "  [1.87208070e-05]\n",
      "  [8.02116862e-06]\n",
      "  [8.02980223e-04]\n",
      "  [2.37640439e-04]\n",
      "  [9.78297894e-06]\n",
      "  [5.85805478e-07]\n",
      "  [1.57208089e-05]\n",
      "  [9.42210851e-06]\n",
      "  [2.94640989e-06]\n",
      "  [2.01813066e-05]\n",
      "  [4.62232744e-06]\n",
      "  [8.74947963e-04]\n",
      "  [2.48526006e-04]\n",
      "  [1.75329657e-06]\n",
      "  [1.10285317e-06]\n",
      "  [1.95396752e-05]\n",
      "  [3.86512389e-06]\n",
      "  [1.40815128e-06]\n",
      "  [3.56232268e-05]\n",
      "  [1.59208096e-04]\n",
      "  [5.98752275e-05]\n",
      "  [9.96302815e-05]\n",
      "  [2.62464128e-05]\n",
      "  [6.28938211e-05]\n",
      "  [1.00376822e-04]\n",
      "  [3.60015527e-05]\n",
      "  [5.96446806e-04]\n",
      "  [2.05787538e-07]\n",
      "  [2.50330363e-05]\n",
      "  [2.69234660e-05]\n",
      "  [2.66863081e-04]\n",
      "  [9.36692599e-05]\n",
      "  [3.96840590e-06]\n",
      "  [8.08196035e-06]\n",
      "  [1.80381373e-04]\n",
      "  [8.00745060e-05]\n",
      "  [5.01618258e-05]\n",
      "  [5.59601203e-05]\n",
      "  [3.53050052e-05]\n",
      "  [7.50202935e-05]\n",
      "  [2.35807497e-06]\n",
      "  [1.62932973e-06]\n",
      "  [6.79278763e-05]\n",
      "  [2.24531817e-04]\n",
      "  [8.32220598e-06]\n",
      "  [2.12773427e-05]\n",
      "  [1.54015433e-05]\n",
      "  [4.46033420e-06]\n",
      "  [4.23850772e-04]\n",
      "  [1.94237073e-04]\n",
      "  [6.25359230e-05]\n",
      "  [2.28519512e-04]\n",
      "  [4.23637534e-04]\n",
      "  [3.50054421e-06]\n",
      "  [1.02876704e-04]\n",
      "  [1.79267185e-04]\n",
      "  [3.62001782e-04]\n",
      "  [4.11446460e-05]\n",
      "  [2.07421178e-05]\n",
      "  [1.92938750e-06]\n",
      "  [9.91729672e-06]\n",
      "  [6.37998149e-06]\n",
      "  [8.01986156e-06]\n",
      "  [2.39741054e-05]\n",
      "  [2.63455626e-05]\n",
      "  [5.15676248e-05]\n",
      "  [4.08016988e-06]\n",
      "  [2.05428499e-06]\n",
      "  [1.04176816e-06]\n",
      "  [1.60155009e-05]\n",
      "  [6.22058369e-06]\n",
      "  [5.40651124e-05]\n",
      "  [1.27561225e-04]\n",
      "  [6.31702824e-04]\n",
      "  [1.41464410e-07]\n",
      "  [6.86229754e-07]\n",
      "  [8.56802114e-08]\n",
      "  [1.08873135e-06]\n",
      "  [7.39980586e-06]\n",
      "  [1.72507387e-04]\n",
      "  [4.73756534e-06]\n",
      "  [9.31399427e-05]\n",
      "  [3.56287361e-06]\n",
      "  [1.23787209e-07]\n",
      "  [4.83992542e-07]\n",
      "  [4.55734603e-07]\n",
      "  [1.00940734e-05]\n",
      "  [5.80824740e-06]\n",
      "  [1.06622826e-05]\n",
      "  [3.16253442e-05]\n",
      "  [8.98127466e-06]\n",
      "  [1.87416651e-06]\n",
      "  [1.00728997e-06]\n",
      "  [8.94002921e-07]\n",
      "  [1.73270754e-05]\n",
      "  [6.26424520e-05]\n",
      "  [1.00518467e-05]\n",
      "  [1.86515748e-04]\n",
      "  [1.18346284e-05]\n",
      "  [1.75353293e-04]\n",
      "  [4.18649220e-05]\n",
      "  [8.13400742e-06]\n",
      "  [2.04152522e-06]\n",
      "  [2.08688373e-05]\n",
      "  [1.11540866e-04]\n",
      "  [9.45221887e-05]\n",
      "  [1.06814034e-10]\n",
      "  [4.20387783e-05]\n",
      "  [2.36851671e-04]\n",
      "  [1.45142671e-05]\n",
      "  [1.03296338e-05]\n",
      "  [1.17027597e-04]\n",
      "  [8.39139168e-05]\n",
      "  [4.32476886e-04]\n",
      "  [1.96718009e-06]\n",
      "  [5.81606340e-05]\n",
      "  [1.81582566e-05]\n",
      "  [6.09150698e-05]\n",
      "  [2.12663682e-05]\n",
      "  [3.95874948e-05]\n",
      "  [3.15779220e-05]\n",
      "  [6.57031801e-05]\n",
      "  [8.35463459e-08]\n",
      "  [5.83401419e-06]]]\n",
      "\n",
      "\n",
      "[0. 1. 0. 0.]\n"
     ]
    }
   ],
   "source": [
    "print(X_train[0])\n",
    "print('\\n')\n",
    "print(y_train[0])"
   ]
  },
  {
   "cell_type": "code",
   "execution_count": 19,
   "id": "37aba7fd",
   "metadata": {},
   "outputs": [],
   "source": [
    "model = Sequential()\n",
    "#add model layers\n",
    "model.add(TimeDistributed(Conv1D(128, kernel_size=1, activation='leaky_relu', input_shape=(None,1, 446, 1))))\n",
    "model.add(TimeDistributed(MaxPooling1D(2)))\n",
    "model.add(TimeDistributed(BatchNormalization()))\n",
    "\n",
    "model.add(TimeDistributed(Conv1D(256, kernel_size=1, activation='leaky_relu')))\n",
    "model.add(TimeDistributed(MaxPooling1D(2)))\n",
    "model.add(TimeDistributed(BatchNormalization()))\n",
    "\n",
    "model.add(TimeDistributed(Conv1D(512, kernel_size=1, activation='leaky_relu')))\n",
    "model.add(TimeDistributed(MaxPooling1D(2)))\n",
    "model.add(TimeDistributed(BatchNormalization()))\n",
    "model.add(TimeDistributed(Flatten()))\n",
    "\n",
    "model.add(Bidirectional(LSTM(200, activation='tanh', return_sequences=True)))\n",
    "model.add(Dropout(0.25))\n",
    "\n",
    "\n",
    "model.add(Bidirectional(LSTM(200, activation='tanh', return_sequences=False)))\n",
    "model.add(Dropout(0.5))\n",
    "\n",
    "\n",
    "model.add(Dense(4, activation='softmax'))\n",
    "\n",
    "optimizer = tf.keras.optimizers.RMSprop(learning_rate=0.0001)\n",
    "\n",
    "model.compile(optimizer=optimizer, loss='CategoricalCrossentropy', metrics=[ 'acc'])"
   ]
  },
  {
   "cell_type": "code",
   "execution_count": 20,
   "id": "e8b3f666",
   "metadata": {},
   "outputs": [],
   "source": [
    "cp = tf.keras.callbacks.ModelCheckpoint(filepath=\"1LSTM_CNN.h5\",\n",
    "                               mode='min', monitor='val_loss', verbose=0, save_best_only=True)\n",
    "# define our early stopping\n",
    "early_stop = tf.keras.callbacks.EarlyStopping(\n",
    "    monitor='val_loss',\n",
    "    min_delta=0.0001,\n",
    "    patience=10,\n",
    "    verbose=1, \n",
    "    mode='min',\n",
    "    restore_best_weights=True)"
   ]
  },
  {
   "cell_type": "code",
   "execution_count": 21,
   "id": "9360f11f",
   "metadata": {},
   "outputs": [
    {
     "name": "stdout",
     "output_type": "stream",
     "text": [
      "Epoch 1/5\n",
      "1084/1084 [==============================] - 80s 66ms/step - loss: 0.0218 - acc: 0.9941 - val_loss: 0.0154 - val_acc: 0.9954\n",
      "Epoch 2/5\n",
      "1084/1084 [==============================] - 70s 64ms/step - loss: 0.0019 - acc: 0.9993 - val_loss: 0.0706 - val_acc: 0.9775\n",
      "Epoch 3/5\n",
      "1084/1084 [==============================] - 70s 65ms/step - loss: 0.0037 - acc: 0.9992 - val_loss: 0.0147 - val_acc: 0.9958\n",
      "Epoch 4/5\n",
      "1084/1084 [==============================] - 71s 65ms/step - loss: 8.4787e-04 - acc: 0.9999 - val_loss: 6.5414e-07 - val_acc: 1.0000\n",
      "Epoch 5/5\n",
      "1084/1084 [==============================] - 71s 65ms/step - loss: 0.0013 - acc: 0.9997 - val_loss: 5.3600e-08 - val_acc: 1.0000\n"
     ]
    }
   ],
   "source": [
    "history = model.fit(X_train, y_train,\n",
    "                    epochs=5,\n",
    "                    batch_size=256,\n",
    "                    shuffle=True,\n",
    "                    validation_data=(X_test, y_test),\n",
    "                    verbose=1,\n",
    "                    callbacks=[cp, early_stop]\n",
    "                    ).history"
   ]
  },
  {
   "cell_type": "code",
   "execution_count": 22,
   "id": "3b1a01ed",
   "metadata": {},
   "outputs": [
    {
     "data": {
      "image/png": "[encoded data removed]",
      "text/plain": [
       "<Figure size 640x480 with 1 Axes>"
      ]
     },
     "metadata": {
      "needs_background": "light"
     },
     "output_type": "display_data"
    }
   ],
   "source": [
    "# plot the training losses\n",
    "fig, ax = plt.subplots(figsize=(8, 6), dpi=80)\n",
    "ax.plot(model.history.history['loss'], 'b', label='Train', linewidth=2)\n",
    "ax.plot(model.history.history['val_loss'], 'r', label='Validation', linewidth=2)\n",
    "ax.set_title('Model loss', fontsize=16)\n",
    "ax.set_ylabel('Loss (mae)')\n",
    "ax.set_xlabel('Epoch')\n",
    "ax.legend(loc='upper right')\n",
    "plt.show()"
   ]
  },
  {
   "cell_type": "code",
   "execution_count": 23,
   "id": "4dab689b",
   "metadata": {},
   "outputs": [],
   "source": [
    "#Prediction\n",
    "pred = model.predict(X_test)\n",
    "#obj = scaler.fit(y_pred)\n",
    "#predicted = obj.inverse_transform(y_pred)"
   ]
  },
  {
   "cell_type": "code",
   "execution_count": 40,
   "id": "e35dee96",
   "metadata": {},
   "outputs": [
    {
     "name": "stdout",
     "output_type": "stream",
     "text": [
      "[[7293    0    0    0]\n",
      " [   0 2456    0    0]\n",
      " [   0    0 2482    0]\n",
      " [   0    0    0 2369]]\n"
     ]
    }
   ],
   "source": [
    "from sklearn.metrics import confusion_matrix\n",
    "\n",
    "y_pred = np.argmax(pred, axis=1)\n",
    "# label\n",
    "y_test = np.argmax(y_test, axis=1)\n",
    "#Get the confusion matrix\n",
    "cf_matrix = confusion_matrix(y_test, y_pred)\n",
    "\n",
    "print(cf_matrix)"
   ]
  },
  {
   "cell_type": "code",
   "execution_count": 41,
   "id": "96bce64a",
   "metadata": {},
   "outputs": [
    {
     "data": {
      "image/png": "[encoded data removed]",
      "text/plain": [
       "<Figure size 842.4x595.44 with 2 Axes>"
      ]
     },
     "metadata": {},
     "output_type": "display_data"
    }
   ],
   "source": [
    "#group_names = ['True Neg','False Pos','False Neg','True Pos','True Pos','True Pos','True Pos','True Pos','True Pos']\n",
    "\n",
    "group_counts = [\"{0:0.0f}\".format(value) for value in\n",
    "                cf_matrix.flatten()]\n",
    "\n",
    "group_percentages = [\"{0:.2%}\".format(value) for value in\n",
    "                     cf_matrix.flatten()/np.sum(cf_matrix)]\n",
    "\n",
    "labels = [f\"{v1}\\n{v2}\\n\" for v1, v2 in\n",
    "          zip(group_counts,group_percentages)]\n",
    "\n",
    "labels = np.asarray(labels).reshape(4,4)\n",
    "sns.set(rc={'figure.figsize':(11.7,8.27)})\n",
    "ax = sns.heatmap(cf_matrix, annot=labels, fmt='', cmap='Blues')\n",
    "\n",
    "ax.set_title('Fig. 4. (a). Confusion Matrix with labels', fontsize=18);\n",
    "ax.set_xlabel('\\nActual Category', fontsize=15)\n",
    "ax.set_ylabel('Predicted Category ', fontsize=15);\n",
    "\n",
    "## Ticket labels - List must be in alphabetical order\n",
    "ax.xaxis.set_ticklabels([\"Normal\", \"DoS\", \"Fuzz\", \"Replay\"])\n",
    "ax.yaxis.set_ticklabels([\"Normal\", \"DoS\", \"Fuzz\", \"Replay\"])\n",
    "\n",
    "## Display the visualization of the Confusion Matrix.\n",
    "plt.show()"
   ]
  },
  {
   "cell_type": "code",
   "execution_count": 42,
   "id": "48967d69",
   "metadata": {},
   "outputs": [
    {
     "name": "stdout",
     "output_type": "stream",
     "text": [
      "              precision    recall  f1-score   support\n",
      "\n",
      "      Normal       1.00      1.00      1.00      7293\n",
      "         DoS       1.00      1.00      1.00      2456\n",
      "        Fuzz       1.00      1.00      1.00      2482\n",
      "      Replay       1.00      1.00      1.00      2369\n",
      "\n",
      "    accuracy                           1.00     14600\n",
      "   macro avg       1.00      1.00      1.00     14600\n",
      "weighted avg       1.00      1.00      1.00     14600\n",
      "\n"
     ]
    }
   ],
   "source": [
    "from sklearn.metrics import classification_report\n",
    "class_names = [\"Normal\", \"DoS\", \"Fuzz\", \"Replay\"]\n",
    "print(classification_report(y_test, y_pred, target_names=class_names))"
   ]
  },
  {
   "cell_type": "code",
   "execution_count": 43,
   "id": "4166c69d",
   "metadata": {},
   "outputs": [
    {
     "name": "stdout",
     "output_type": "stream",
     "text": [
      "ROC AUC score: 1.0\n"
     ]
    },
    {
     "data": {
      "image/png": "[encoded data removed]",
      "text/plain": [
       "<Figure size 864x576 with 1 Axes>"
      ]
     },
     "metadata": {},
     "output_type": "display_data"
    }
   ],
   "source": [
    "import matplotlib.pyplot as plt \n",
    "from sklearn.preprocessing import LabelBinarizer\n",
    "from sklearn.metrics import roc_curve, auc, roc_auc_score\n",
    "\n",
    "\n",
    "target= [\"Normal\", \"DoS\", \"Fuzz\", \"Replay\"]\n",
    "\n",
    "# set plot figure size\n",
    "fig, c_ax = plt.subplots(1,1, figsize = (12, 8))\n",
    "\n",
    "# function for scoring roc auc score for multi-class\n",
    "def multiclass_roc_auc_score(y_test, y_pred, average=\"macro\"):\n",
    "    lb = LabelBinarizer()\n",
    "    lb.fit(y_test)\n",
    "    y_test = lb.transform(y_test)\n",
    "    y_pred = lb.transform(y_pred)\n",
    "\n",
    "    for (idx, c_label) in enumerate(target):\n",
    "        fpr, tpr, thresholds = roc_curve(y_test[:,idx].astype(int), y_pred[:,idx])\n",
    "        c_ax.plot(fpr, tpr, label = '%s (AUC:%0.2f)'  % (c_label, auc(fpr, tpr)))\n",
    "    c_ax.plot(fpr, fpr, 'b-', label = 'Random Guessing')\n",
    "    return roc_auc_score(y_test, y_pred, average=average)\n",
    "\n",
    "\n",
    "print('ROC AUC score:', multiclass_roc_auc_score(y_test, y_pred))\n",
    "\n",
    "c_ax.legend()\n",
    "c_ax.set_title('Fig. 4. (b). ROC Score', fontsize=18);\n",
    "c_ax.set_xlabel('False Positive Rate', fontsize=15)\n",
    "c_ax.set_ylabel('True Positive Rate', fontsize=15)\n",
    "plt.show()"
   ]
  },
  {
   "cell_type": "code",
   "execution_count": null,
   "id": "deec2abc",
   "metadata": {},
   "outputs": [],
   "source": []
  },
  {
   "cell_type": "code",
   "execution_count": null,
   "id": "426da99b",
   "metadata": {},
   "outputs": [],
   "source": []
  }
 ],
 "metadata": {
  "kernelspec": {
   "display_name": "Python 3 (ipykernel)",
   "language": "python",
   "name": "python3"
  },
  "language_info": {
   "codemirror_mode": {
    "name": "ipython",
    "version": 3
   },
   "file_extension": ".py",
   "mimetype": "text/x-python",
   "name": "python",
   "nbconvert_exporter": "python",
   "pygments_lexer": "ipython3",
   "version": "3.9.7"
  }
 },
 "nbformat": 4,
 "nbformat_minor": 5
}
