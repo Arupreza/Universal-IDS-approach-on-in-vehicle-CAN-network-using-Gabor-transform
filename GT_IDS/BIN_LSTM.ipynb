{
 "cells": [
  {
   "cell_type": "code",
   "execution_count": 1,
   "id": "040ca1b8",
   "metadata": {},
   "outputs": [],
   "source": [
    "# Import necessary libraries\n",
    "import numpy as np # linear algebra\n",
    "import pandas as pd # data processing, CSV file I/O (e.g. pd.read_csv)\n",
    "import matplotlib.pyplot as plt   # plotting\n",
    "import seaborn as sns   # plotting heatmap\n",
    "%matplotlib inline\n",
    "from sklearn.preprocessing import LabelEncoder\n",
    "from sklearn.preprocessing import MinMaxScaler\n",
    "from sklearn.preprocessing import LabelEncoder\n",
    "from sklearn.metrics import mean_squared_error\n",
    "from sklearn.impute import SimpleImputer\n",
    "from sklearn.model_selection import train_test_split\n",
    "from tensorflow.keras.utils import to_categorical\n",
    "from sklearn.preprocessing import LabelEncoder\n",
    "\n",
    "import matplotlib.pyplot as plt\n",
    "import os\n",
    "import pprint\n",
    "import tensorflow as tf\n",
    "from tensorflow.keras.layers import BatchNormalization"
   ]
  },
  {
   "cell_type": "code",
   "execution_count": 2,
   "id": "dc0fd3ea",
   "metadata": {},
   "outputs": [],
   "source": [
    "# lstm model\n",
    "import tensorflow as tf\n",
    "from tensorflow.keras.models import Sequential\n",
    "from tensorflow.keras.layers import Dense\n",
    "from tensorflow.keras.layers import Flatten\n",
    "from tensorflow.keras.layers import Dropout\n",
    "from tensorflow.keras.layers import LSTM\n",
    "from tensorflow.keras.utils import to_categorical\n",
    "from keras.utils import np_utils\n",
    "from matplotlib import pyplot\n",
    "import keras\n",
    "from tensorflow.keras.layers import GRU\n",
    "from keras.utils.vis_utils import plot_model\n",
    "from tensorflow.keras.layers import BatchNormalization"
   ]
  },
  {
   "cell_type": "code",
   "execution_count": 3,
   "id": "d9dd1139",
   "metadata": {},
   "outputs": [],
   "source": [
    "Final_Normal_Spec = pd.read_csv(\"Bin_Final_Normal_Spec.csv\")\n",
    "Final_Normal_Spec = Final_Normal_Spec[:70000]\n",
    "Final_Fuzz_Spec = pd.read_csv(\"Bin_Final_Fuzz_Spec.csv\")\n",
    "Final_Fuzz_Spec = Final_Fuzz_Spec[:139586]\n",
    "Final_DoS_Spec = pd.read_csv(\"Bin_Final_DoS_Spec.csv\")\n",
    "Final_DoS_Spec = Final_DoS_Spec[:100000]\n",
    "Final_Replay_Spec = pd.read_csv(\"Bin_Final_Replay_Spec.csv\")\n",
    "\n",
    "Concat = pd.concat([pd.DataFrame(Final_Normal_Spec.values), pd.DataFrame(Final_Fuzz_Spec.values), \n",
    "                    pd.DataFrame(Final_DoS_Spec.values), pd.DataFrame(Final_Replay_Spec.values)], \n",
    "                   ignore_index=True) "
   ]
  },
  {
   "cell_type": "code",
   "execution_count": 4,
   "id": "6dd0ec93",
   "metadata": {},
   "outputs": [],
   "source": [
    "Concat = np.array(Concat)"
   ]
  },
  {
   "cell_type": "code",
   "execution_count": 5,
   "id": "fc3d1a05",
   "metadata": {},
   "outputs": [],
   "source": [
    "Final = Concat.reshape(-1,1000,Concat.shape[1])\n",
    "shuffle_idx = np.random.permutation(Final.shape[0])\n",
    "Final = Final[shuffle_idx]"
   ]
  },
  {
   "cell_type": "code",
   "execution_count": 6,
   "id": "70a91d28",
   "metadata": {},
   "outputs": [
    {
     "name": "stdout",
     "output_type": "stream",
     "text": [
      "Old: (360, 1000, 259)\n",
      "Updated: (360000, 259)\n"
     ]
    }
   ],
   "source": [
    "print('Old:', Final.shape)\n",
    "Final = Final.reshape(360000, 259)\n",
    "print('Updated:',Final.shape)"
   ]
  },
  {
   "cell_type": "code",
   "execution_count": 7,
   "id": "7e8a2f70",
   "metadata": {},
   "outputs": [],
   "source": [
    "X = Final[:, :258]\n",
    "y = Final[:,258]"
   ]
  },
  {
   "cell_type": "code",
   "execution_count": 8,
   "id": "706a6627",
   "metadata": {},
   "outputs": [
    {
     "data": {
      "text/plain": [
       "(360000, 258)"
      ]
     },
     "execution_count": 8,
     "metadata": {},
     "output_type": "execute_result"
    }
   ],
   "source": [
    "#Data normalization by scalling\n",
    "scaler = MinMaxScaler(feature_range=(0, 1))\n",
    "X = scaler.fit_transform(X)\n",
    "X.shape"
   ]
  },
  {
   "cell_type": "code",
   "execution_count": 9,
   "id": "372d4023",
   "metadata": {},
   "outputs": [
    {
     "data": {
      "text/plain": [
       "1.0    290000\n",
       "0.0     70000\n",
       "dtype: int64"
      ]
     },
     "execution_count": 9,
     "metadata": {},
     "output_type": "execute_result"
    }
   ],
   "source": [
    "pd.value_counts(y)"
   ]
  },
  {
   "cell_type": "code",
   "execution_count": 10,
   "id": "701a8b10",
   "metadata": {},
   "outputs": [
    {
     "name": "stdout",
     "output_type": "stream",
     "text": [
      "359981\n",
      "359981\n"
     ]
    }
   ],
   "source": [
    "X_trainX = []\n",
    "y_trainX = []\n",
    "strat_time = 0\n",
    "timestamp = 10\n",
    "length = len(Final)\n",
    "\n",
    "for i in range(length):\n",
    "    X_trainX.append(X[strat_time:timestamp, :258])\n",
    "    y_trainX.append(y[timestamp])\n",
    "    \n",
    "    if timestamp >= 360000-10:\n",
    "        break\n",
    "    \n",
    "    strat_time = strat_time + 1\n",
    "    timestamp = timestamp + 1\n",
    "print(len(X_trainX))\n",
    "print(len(y_trainX))"
   ]
  },
  {
   "cell_type": "code",
   "execution_count": 11,
   "id": "322c1597",
   "metadata": {},
   "outputs": [],
   "source": [
    "X_train, X_test, y_train, y_test = train_test_split(X_trainX, y_trainX, test_size=0.05, random_state=0)"
   ]
  },
  {
   "cell_type": "code",
   "execution_count": 12,
   "id": "b04f824d",
   "metadata": {},
   "outputs": [],
   "source": [
    "X_train = np.array(X_train)\n",
    "y_train = np.array(y_train)\n",
    "X_test = np.array(X_test)\n",
    "y_test = np.array(y_test)"
   ]
  },
  {
   "cell_type": "code",
   "execution_count": 13,
   "id": "6b568af2",
   "metadata": {},
   "outputs": [
    {
     "data": {
      "text/plain": [
       "(341981, 10, 258)"
      ]
     },
     "execution_count": 13,
     "metadata": {},
     "output_type": "execute_result"
    }
   ],
   "source": [
    "X_train.shape"
   ]
  },
  {
   "cell_type": "code",
   "execution_count": 14,
   "id": "518d6532",
   "metadata": {},
   "outputs": [
    {
     "data": {
      "text/plain": [
       "1.0    275485\n",
       "0.0     66496\n",
       "dtype: int64"
      ]
     },
     "execution_count": 14,
     "metadata": {},
     "output_type": "execute_result"
    }
   ],
   "source": [
    "pd.value_counts(y_train)"
   ]
  },
  {
   "cell_type": "code",
   "execution_count": 15,
   "id": "9cd86ab8",
   "metadata": {},
   "outputs": [],
   "source": [
    "y_train = to_categorical(y_train, 2)\n",
    "y_test = to_categorical(y_test, 2)"
   ]
  },
  {
   "cell_type": "code",
   "execution_count": 16,
   "id": "ccc18018",
   "metadata": {},
   "outputs": [
    {
     "name": "stdout",
     "output_type": "stream",
     "text": [
      "[0. 1.]\n",
      "[0. 1.]\n",
      "[0. 1.]\n",
      "[1. 0.]\n"
     ]
    }
   ],
   "source": [
    "print(y_train[0])\n",
    "print(y_test[64])\n",
    "print(y_train[2345])\n",
    "print(y_test[97])"
   ]
  },
  {
   "cell_type": "code",
   "execution_count": 17,
   "id": "42241d66",
   "metadata": {},
   "outputs": [
    {
     "data": {
      "text/plain": [
       "(18000, 10, 258)"
      ]
     },
     "execution_count": 17,
     "metadata": {},
     "output_type": "execute_result"
    }
   ],
   "source": [
    "X_test.shape"
   ]
  },
  {
   "cell_type": "code",
   "execution_count": 18,
   "id": "6aa748aa",
   "metadata": {},
   "outputs": [
    {
     "name": "stdout",
     "output_type": "stream",
     "text": [
      "[[4.41750611e-06 2.99670023e-05 3.94858164e-05 ... 3.96836802e-04\n",
      "  8.06968562e-05 2.99954748e-05]\n",
      " [9.78721981e-06 2.91466245e-05 3.80067023e-05 ... 4.19460207e-04\n",
      "  3.23780410e-05 2.44682933e-05]\n",
      " [6.88797856e-06 2.84052553e-05 3.70235897e-05 ... 4.24539373e-04\n",
      "  1.20738853e-05 1.80154941e-05]\n",
      " ...\n",
      " [6.20581496e-06 2.74157300e-05 3.39518612e-05 ... 5.90889722e-04\n",
      "  1.63555323e-04 1.32632906e-05]\n",
      " [1.12259361e-06 2.47470994e-05 3.20588101e-05 ... 6.63413067e-04\n",
      "  2.11551268e-04 1.67269332e-05]\n",
      " [1.52843760e-07 2.34317101e-05 3.07955843e-05 ... 7.17520803e-04\n",
      "  2.64661426e-04 2.17897569e-05]]\n",
      "\n",
      "\n",
      "[0. 1.]\n"
     ]
    }
   ],
   "source": [
    "print(X_train[0])\n",
    "print('\\n')\n",
    "print(y_train[0])"
   ]
  },
  {
   "cell_type": "code",
   "execution_count": 19,
   "id": "8b8d1e2f",
   "metadata": {},
   "outputs": [],
   "source": [
    "#Model Generation\n",
    "model = Sequential()\n",
    "\n",
    "model.add(LSTM(units = 120, activation='tanh', return_sequences = True, input_shape = (10, 258)))\n",
    "model.add(Dropout(0.2))\n",
    "model.add(BatchNormalization())\n",
    "\n",
    "model.add(LSTM(units = 120, activation='tanh', return_sequences = True))\n",
    "model.add(Dropout(0.2))\n",
    "model.add(BatchNormalization())\n",
    "\n",
    "model.add(LSTM(units = 120, activation='tanh', return_sequences = False))\n",
    "model.add(Dropout(0.2))\n",
    "model.add(BatchNormalization())\n",
    "\n",
    "optimizer = tf.keras.optimizers.RMSprop(learning_rate=0.0001)\n",
    "\n",
    "model.add(Dense(units = 2, activation='sigmoid'))\n",
    "model.compile(optimizer = optimizer, loss = 'binary_crossentropy', metrics=['accuracy'])"
   ]
  },
  {
   "cell_type": "code",
   "execution_count": 20,
   "id": "5f03430b",
   "metadata": {},
   "outputs": [],
   "source": [
    "cp = tf.keras.callbacks.ModelCheckpoint(filepath=\"Final_BIN_LSTM.h5\",\n",
    "                               mode='min', monitor='val_loss', verbose=0, save_best_only=True)\n",
    "# define our early stopping\n",
    "early_stop = tf.keras.callbacks.EarlyStopping(\n",
    "    monitor='val_loss',\n",
    "    min_delta=0.0001,\n",
    "    patience=10,\n",
    "    verbose=1, \n",
    "    mode='min',\n",
    "    restore_best_weights=True)"
   ]
  },
  {
   "cell_type": "code",
   "execution_count": 21,
   "id": "1a75a5cd",
   "metadata": {},
   "outputs": [
    {
     "name": "stdout",
     "output_type": "stream",
     "text": [
      "Epoch 1/150\n",
      "2672/2672 [==============================] - 45s 15ms/step - loss: 0.0277 - accuracy: 0.9961 - val_loss: 0.0104 - val_accuracy: 0.9991\n",
      "Epoch 2/150\n",
      "2672/2672 [==============================] - 40s 15ms/step - loss: 0.0085 - accuracy: 0.9989 - val_loss: 0.0084 - val_accuracy: 0.9993\n",
      "Epoch 3/150\n",
      "2672/2672 [==============================] - 40s 15ms/step - loss: 0.0062 - accuracy: 0.9992 - val_loss: 0.0088 - val_accuracy: 0.9993\n",
      "Epoch 4/150\n",
      "2672/2672 [==============================] - 40s 15ms/step - loss: 0.0053 - accuracy: 0.9993 - val_loss: 0.0067 - val_accuracy: 0.9994\n",
      "Epoch 5/150\n",
      "2672/2672 [==============================] - 41s 15ms/step - loss: 0.0048 - accuracy: 0.9994 - val_loss: 0.0064 - val_accuracy: 0.9995\n",
      "Epoch 6/150\n",
      "2672/2672 [==============================] - 40s 15ms/step - loss: 0.0044 - accuracy: 0.9994 - val_loss: 0.0061 - val_accuracy: 0.9995\n",
      "Epoch 7/150\n",
      "2672/2672 [==============================] - 40s 15ms/step - loss: 0.0042 - accuracy: 0.9995 - val_loss: 0.0053 - val_accuracy: 0.9996\n",
      "Epoch 8/150\n",
      "2672/2672 [==============================] - 41s 15ms/step - loss: 0.0040 - accuracy: 0.9995 - val_loss: 0.0049 - val_accuracy: 0.9995\n",
      "Epoch 9/150\n",
      "2672/2672 [==============================] - 41s 15ms/step - loss: 0.0039 - accuracy: 0.9995 - val_loss: 0.0050 - val_accuracy: 0.9995\n",
      "Epoch 10/150\n",
      "2672/2672 [==============================] - 40s 15ms/step - loss: 0.0039 - accuracy: 0.9995 - val_loss: 0.0056 - val_accuracy: 0.9995\n",
      "Epoch 11/150\n",
      "2672/2672 [==============================] - 40s 15ms/step - loss: 0.0040 - accuracy: 0.9995 - val_loss: 0.0048 - val_accuracy: 0.9996\n",
      "Epoch 12/150\n",
      "2672/2672 [==============================] - 40s 15ms/step - loss: 0.0037 - accuracy: 0.9996 - val_loss: 0.0047 - val_accuracy: 0.9996\n",
      "Epoch 13/150\n",
      "2672/2672 [==============================] - 40s 15ms/step - loss: 0.0038 - accuracy: 0.9996 - val_loss: 0.0050 - val_accuracy: 0.9995\n",
      "Epoch 14/150\n",
      "2672/2672 [==============================] - 40s 15ms/step - loss: 0.0036 - accuracy: 0.9996 - val_loss: 0.0049 - val_accuracy: 0.9996\n",
      "Epoch 15/150\n",
      "2672/2672 [==============================] - 40s 15ms/step - loss: 0.0036 - accuracy: 0.9996 - val_loss: 0.0046 - val_accuracy: 0.9996\n",
      "Epoch 16/150\n",
      "2672/2672 [==============================] - 40s 15ms/step - loss: 0.0035 - accuracy: 0.9996 - val_loss: 0.0048 - val_accuracy: 0.9996\n",
      "Epoch 17/150\n",
      "2672/2672 [==============================] - 40s 15ms/step - loss: 0.0035 - accuracy: 0.9996 - val_loss: 0.0046 - val_accuracy: 0.9996\n",
      "Epoch 18/150\n",
      "2672/2672 [==============================] - 40s 15ms/step - loss: 0.0035 - accuracy: 0.9996 - val_loss: 0.0050 - val_accuracy: 0.9996\n",
      "Epoch 19/150\n",
      "2672/2672 [==============================] - 40s 15ms/step - loss: 0.0035 - accuracy: 0.9996 - val_loss: 0.0052 - val_accuracy: 0.9996\n",
      "Epoch 20/150\n",
      "2672/2672 [==============================] - 40s 15ms/step - loss: 0.0035 - accuracy: 0.9996 - val_loss: 0.0047 - val_accuracy: 0.9996\n",
      "Epoch 21/150\n",
      "2672/2672 [==============================] - 40s 15ms/step - loss: 0.0035 - accuracy: 0.9996 - val_loss: 0.0048 - val_accuracy: 0.9996\n",
      "Epoch 22/150\n",
      "2672/2672 [==============================] - 40s 15ms/step - loss: 0.0034 - accuracy: 0.9996 - val_loss: 0.0049 - val_accuracy: 0.9996\n",
      "Epoch 23/150\n",
      "2672/2672 [==============================] - 40s 15ms/step - loss: 0.0034 - accuracy: 0.9996 - val_loss: 0.0047 - val_accuracy: 0.9996\n",
      "Epoch 24/150\n",
      "2672/2672 [==============================] - 40s 15ms/step - loss: 0.0035 - accuracy: 0.9996 - val_loss: 0.0046 - val_accuracy: 0.9996\n",
      "Epoch 25/150\n",
      "2669/2672 [============================>.] - ETA: 0s - loss: 0.0034 - accuracy: 0.9996Restoring model weights from the end of the best epoch: 15.\n",
      "2672/2672 [==============================] - 41s 15ms/step - loss: 0.0034 - accuracy: 0.9996 - val_loss: 0.0047 - val_accuracy: 0.9996\n",
      "Epoch 00025: early stopping\n"
     ]
    }
   ],
   "source": [
    "history = model.fit(X_train, y_train,\n",
    "                    epochs=150,\n",
    "                    batch_size=128,\n",
    "                    shuffle=True,\n",
    "                    validation_data=(X_test, y_test),\n",
    "                    verbose=1,\n",
    "                    callbacks=[cp, early_stop]\n",
    "                    ).history"
   ]
  },
  {
   "cell_type": "code",
   "execution_count": 22,
   "id": "1da6426d",
   "metadata": {},
   "outputs": [
    {
     "data": {
      "image/png": "[encoded data removed]",
      "text/plain": [
       "<Figure size 640x480 with 1 Axes>"
      ]
     },
     "metadata": {
      "needs_background": "light"
     },
     "output_type": "display_data"
    }
   ],
   "source": [
    "# plot the training losses\n",
    "fig, ax = plt.subplots(figsize=(8, 6), dpi=80)\n",
    "ax.plot(model.history.history['loss'], 'b', label='Train', linewidth=2)\n",
    "ax.plot(model.history.history['val_loss'], 'r', label='Validation', linewidth=2)\n",
    "ax.set_title('Model loss', fontsize=16)\n",
    "ax.set_ylabel('Loss (mae)')\n",
    "ax.set_xlabel('Epoch')\n",
    "ax.legend(loc='upper right')\n",
    "plt.show()"
   ]
  },
  {
   "cell_type": "code",
   "execution_count": 23,
   "id": "7a0f05ac",
   "metadata": {},
   "outputs": [
    {
     "name": "stdout",
     "output_type": "stream",
     "text": [
      "(4433, 259)\n"
     ]
    }
   ],
   "source": [
    "Tesla_Normal_Spec = pd.read_csv(\"Bin_Tesla_Normal_Spec.csv\")\n",
    "Tesla_Fuzz_Spec = pd.read_csv(\"Bin_Tesla_Fuzz_Spec.csv\")\n",
    "Tesla_DoS_Spec = pd.read_csv(\"Bin_Tesla_DoS_Spec.csv\")\n",
    "Tesla_Replay_Spec = pd.read_csv(\"Bin_Tesla_Replay_Spec.csv\")\n",
    "\n",
    "\n",
    "\n",
    "tesla = pd.concat([pd.DataFrame(Tesla_Normal_Spec.values), pd.DataFrame(Tesla_Fuzz_Spec.values), \n",
    "                    pd.DataFrame(Tesla_DoS_Spec.values), pd.DataFrame(Tesla_Replay_Spec.values)], \n",
    "                   ignore_index=True) \n",
    "print(tesla.shape)"
   ]
  },
  {
   "cell_type": "code",
   "execution_count": 24,
   "id": "b18df0ee",
   "metadata": {},
   "outputs": [],
   "source": [
    "tesla = np.array(tesla)"
   ]
  },
  {
   "cell_type": "code",
   "execution_count": 25,
   "id": "9d0fdca4",
   "metadata": {},
   "outputs": [],
   "source": [
    "X = tesla[:, :258]\n",
    "y = tesla[:,258]"
   ]
  },
  {
   "cell_type": "code",
   "execution_count": 26,
   "id": "ad78584b",
   "metadata": {},
   "outputs": [
    {
     "data": {
      "text/plain": [
       "(4433, 258)"
      ]
     },
     "execution_count": 26,
     "metadata": {},
     "output_type": "execute_result"
    }
   ],
   "source": [
    "#Data normalization by scalling\n",
    "scaler = MinMaxScaler(feature_range=(0, 1))\n",
    "X = scaler.fit_transform(X)\n",
    "X.shape"
   ]
  },
  {
   "cell_type": "code",
   "execution_count": 27,
   "id": "35982113",
   "metadata": {},
   "outputs": [
    {
     "name": "stdout",
     "output_type": "stream",
     "text": [
      "4414\n",
      "4414\n"
     ]
    }
   ],
   "source": [
    "X_trainX = []\n",
    "y_trainX = []\n",
    "strat_time = 0\n",
    "timestamp = 10\n",
    "length = len(Final)\n",
    "\n",
    "for i in range(length):\n",
    "    X_trainX.append(X[strat_time:timestamp, :258])\n",
    "    y_trainX.append(y[timestamp])\n",
    "    \n",
    "    if timestamp >= 4433-10:\n",
    "        break\n",
    "    \n",
    "    strat_time = strat_time + 1\n",
    "    timestamp = timestamp + 1\n",
    "print(len(X_trainX))\n",
    "print(len(y_trainX))\n",
    "\n",
    "X_trainX = np.array(X_trainX)\n",
    "y_trainX = np.array(y_trainX)"
   ]
  },
  {
   "cell_type": "code",
   "execution_count": 28,
   "id": "b273023a",
   "metadata": {},
   "outputs": [],
   "source": [
    "y_trainX = to_categorical(y_trainX, 2)"
   ]
  },
  {
   "cell_type": "code",
   "execution_count": 29,
   "id": "f6528f42",
   "metadata": {},
   "outputs": [],
   "source": [
    "from keras.models import load_model\n",
    "\n",
    "# returns a compiled model\n",
    "# identical to the previous one\n",
    "model = load_model('Final_BIN_LSTM.h5')"
   ]
  },
  {
   "cell_type": "code",
   "execution_count": 30,
   "id": "bfd57459",
   "metadata": {},
   "outputs": [],
   "source": [
    "#Prediction\n",
    "pred = model.predict(X_trainX)\n",
    "#obj = scaler.fit(y_pred)\n",
    "#predicted = obj.inverse_transform(y_pred)"
   ]
  },
  {
   "cell_type": "code",
   "execution_count": 31,
   "id": "bcea66e9",
   "metadata": {},
   "outputs": [
    {
     "name": "stdout",
     "output_type": "stream",
     "text": [
      "[[1889    0]\n",
      " [   1 2524]]\n"
     ]
    }
   ],
   "source": [
    "from sklearn.metrics import confusion_matrix\n",
    "\n",
    "y_pred = np.argmax(pred, axis=1)\n",
    "# label\n",
    "y_test = np.argmax(y_trainX, axis=1)\n",
    "#Get the confusion matrix\n",
    "cf_matrix = confusion_matrix(y_test, y_pred)\n",
    "\n",
    "print(cf_matrix)"
   ]
  },
  {
   "cell_type": "code",
   "execution_count": 32,
   "id": "39b6cefb",
   "metadata": {},
   "outputs": [
    {
     "data": {
      "image/png": "[encoded data removed]",
      "text/plain": [
       "<Figure size 1080x936 with 1 Axes>"
      ]
     },
     "metadata": {},
     "output_type": "display_data"
    }
   ],
   "source": [
    "#group_names = ['True Neg','False Pos','False Neg','True Pos','True Pos','True Pos','True Pos','True Pos','True Pos']\n",
    "\n",
    "group_counts = [\"{0:0.0f}\".format(value) for value in\n",
    "                cf_matrix.flatten()]\n",
    "\n",
    "group_percentages = [\"{0:.2%}\".format(value) for value in\n",
    "                     cf_matrix.flatten()/np.sum(cf_matrix)]\n",
    "\n",
    "labels = [f\"{v1}\\n{v2}\\n\" for v1, v2 in\n",
    "          zip(group_counts,group_percentages)]\n",
    "\n",
    "labels = np.asarray(labels).reshape(2,2)\n",
    "sns.set(rc={'figure.figsize':(15,13)})\n",
    "sns.set(font_scale=1.8) #edited as suggested\n",
    "ax = sns.heatmap(cf_matrix, annot=labels, fmt='', cmap='Blues', cbar=False)\n",
    "\n",
    "\n",
    "ax.set_xlabel('\\nActual Category ', fontname=\"Times New Roman\", size=22,fontweight=\"bold\")\n",
    "ax.set_ylabel('Predicted Category \\n', fontname=\"Times New Roman\", size=22,fontweight=\"bold\");\n",
    "ax.text(0.2, 2.30, 'Fig. 9. (a) Confusion Matrix LSTM Multiclass Classification',fontsize=25,fontweight=\"bold\")\n",
    "\n",
    "## Ticket labels - List must be in alphabetical order\n",
    "ax.xaxis.set_ticklabels([\"Normal\", \"DoS\"],fontweight=\"bold\", fontname=\"Times New Roman\", size=18)\n",
    "ax.yaxis.set_ticklabels([\"Normal\", \"DoS\"],fontweight=\"bold\", fontname=\"Times New Roman\", size=18)\n",
    "ax.xaxis.label.set_color('darkblue')\n",
    "ax.yaxis.label.set_color('darkblue')\n",
    "## Display the visualization of the Confusion Matrix.\n",
    "plt.show()"
   ]
  },
  {
   "cell_type": "code",
   "execution_count": 33,
   "id": "9189e3d5",
   "metadata": {},
   "outputs": [
    {
     "name": "stdout",
     "output_type": "stream",
     "text": [
      "              precision    recall  f1-score   support\n",
      "\n",
      "      Normal       1.00      1.00      1.00      1889\n",
      "      Attack       1.00      1.00      1.00      2525\n",
      "\n",
      "    accuracy                           1.00      4414\n",
      "   macro avg       1.00      1.00      1.00      4414\n",
      "weighted avg       1.00      1.00      1.00      4414\n",
      "\n"
     ]
    }
   ],
   "source": [
    "from sklearn.metrics import classification_report\n",
    "class_names = [\"Normal\", \"Attack\"]\n",
    "print(classification_report(y_test, y_pred, target_names=class_names))"
   ]
  },
  {
   "cell_type": "code",
   "execution_count": 34,
   "id": "2fa6ab35",
   "metadata": {},
   "outputs": [
    {
     "data": {
      "text/plain": [
       "0.9998019801980198"
      ]
     },
     "execution_count": 34,
     "metadata": {},
     "output_type": "execute_result"
    }
   ],
   "source": [
    "from sklearn.metrics import roc_curve, auc\n",
    "false_positive_rate, true_positive_rate, thresholds = roc_curve(y_test, y_pred)\n",
    "roc_auc = auc(false_positive_rate, true_positive_rate)\n",
    "roc_auc"
   ]
  },
  {
   "cell_type": "code",
   "execution_count": 36,
   "id": "e5f3bb90",
   "metadata": {},
   "outputs": [
    {
     "data": {
      "text/plain": [
       "<matplotlib.legend.Legend at 0x1fcaf81d340>"
      ]
     },
     "execution_count": 36,
     "metadata": {},
     "output_type": "execute_result"
    },
    {
     "data": {
      "image/png": "[encoded data removed]",
      "text/plain": [
       "<Figure size 1080x720 with 1 Axes>"
      ]
     },
     "metadata": {},
     "output_type": "display_data"
    }
   ],
   "source": [
    "import matplotlib.pyplot as plt\n",
    "sns.set(rc={'figure.figsize':(15,10)})\n",
    "sns.set(font_scale=1.3) #edited as suggested\n",
    "\n",
    "plt.plot(false_positive_rate,true_positive_rate, color='red',label = 'BIN_CNN AUC = %0.2f' % roc_auc)\n",
    "plt.legend(loc = 'lower right')\n",
    "plt.plot([0, 1], [0, 1])\n",
    "\n",
    "plt.xlabel('False Positive Rate(TPR)', fontname=\"Times New Roman\", size=18, fontweight=\"bold\", color='darkblue')\n",
    "plt.ylabel('True Positive Rate (FPR)', fontname=\"Times New Roman\", size=18, fontweight=\"bold\", color='darkblue')\n",
    "plt.text(0.02, -0.22, 'Fig. 10. (a) RUC Score LSTM Binary Class Classification Vehicle 4', fontname=\"Times New Roman\",fontsize=25,fontweight=\"bold\")\n",
    "plt.legend(loc=\"lower right\")"
   ]
  },
  {
   "cell_type": "code",
   "execution_count": null,
   "id": "077026d9",
   "metadata": {},
   "outputs": [],
   "source": []
  }
 ],
 "metadata": {
  "kernelspec": {
   "display_name": "Python 3 (ipykernel)",
   "language": "python",
   "name": "python3"
  },
  "language_info": {
   "codemirror_mode": {
    "name": "ipython",
    "version": 3
   },
   "file_extension": ".py",
   "mimetype": "text/x-python",
   "name": "python",
   "nbconvert_exporter": "python",
   "pygments_lexer": "ipython3",
   "version": "3.9.7"
  }
 },
 "nbformat": 4,
 "nbformat_minor": 5
}
