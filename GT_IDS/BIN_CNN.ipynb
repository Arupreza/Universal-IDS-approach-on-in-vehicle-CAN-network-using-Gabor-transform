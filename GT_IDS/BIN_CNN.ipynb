{
 "cells": [
  {
   "cell_type": "code",
   "execution_count": 1,
   "id": "f0571c70",
   "metadata": {},
   "outputs": [],
   "source": [
    "import pandas as pd\n",
    "import numpy as np\n",
    "from sklearn.model_selection import train_test_split\n",
    "from tensorflow.keras.models import Sequential\n",
    "from sklearn import preprocessing\n",
    "from tensorflow.keras.layers import Conv1D,Flatten,MaxPooling1D,Bidirectional,LSTM,Dropout,TimeDistributed,MaxPool1D\n",
    "from tensorflow.keras.layers import Dense,GlobalAveragePooling1D\n",
    "\n",
    "from tensorflow.keras.layers import Conv2D,Flatten,MaxPooling2D,Bidirectional,LSTM,Dropout,TimeDistributed,MaxPool2D\n",
    "from tensorflow.keras.layers import Dense,GlobalMaxPooling2D\n",
    "from tensorflow.keras.layers import RepeatVector\n",
    "from tensorflow.keras.utils import to_categorical\n",
    "from sklearn.preprocessing import LabelEncoder\n",
    "\n",
    "import matplotlib.pyplot as plt\n",
    "import os\n",
    "import pprint\n",
    "import tensorflow as tf\n",
    "from tensorflow.keras.layers import BatchNormalization\n",
    "import seaborn as sns "
   ]
  },
  {
   "cell_type": "code",
   "execution_count": 2,
   "id": "71b48936",
   "metadata": {},
   "outputs": [
    {
     "name": "stderr",
     "output_type": "stream",
     "text": [
      "WARNING (theano.configdefaults): g++ not available, if using conda: `conda install m2w64-toolchain`\n",
      "C:\\Users\\Lisa\\anaconda3\\lib\\site-packages\\theano\\configdefaults.py:560: UserWarning: DeprecationWarning: there is no c++ compiler.This is deprecated and with Theano 0.11 a c++ compiler will be mandatory\n",
      "  warnings.warn(\"DeprecationWarning: there is no c++ compiler.\"\n",
      "WARNING (theano.configdefaults): g++ not detected ! Theano will be unable to execute optimized C-implementations (for both CPU and GPU) and will default to Python implementations. Performance will be severely degraded. To remove this warning, set Theano flags cxx to an empty string.\n",
      "WARNING (theano.tensor.blas): Using NumPy C-API based implementation for BLAS functions.\n"
     ]
    }
   ],
   "source": [
    "from sklearn.model_selection import train_test_split\n",
    "from tensorflow.keras.models import Sequential\n",
    "from sklearn import preprocessing\n",
    "from tensorflow.keras.layers import Conv1D,Flatten,MaxPooling1D,Bidirectional,LSTM,Dropout,TimeDistributed,MaxPool1D\n",
    "from tensorflow.keras.layers import Dense,GlobalAveragePooling1D\n",
    "from keras.layers import LeakyReLU\n",
    "from tensorflow.keras.layers import Conv2D,Flatten,MaxPooling2D,Bidirectional,LSTM,Dropout,TimeDistributed,MaxPool2D\n",
    "from tensorflow.keras.layers import Dense,GlobalMaxPooling2D\n",
    "from tensorflow.keras.layers import RepeatVector\n",
    "from tensorflow.keras.utils import to_categorical\n",
    "from sklearn.preprocessing import LabelEncoder\n",
    "import glob\n",
    "\n",
    "import matplotlib.pyplot as plt\n",
    "import os\n",
    "import pprint\n",
    "import tensorflow as tf\n",
    "from tensorflow.keras.layers import BatchNormalization\n",
    "import seaborn as sns \n",
    "from keras.utils import np_utils\n",
    "from sklearn.tree import DecisionTreeClassifier # Import Decision Tree Classifier\n",
    "from sklearn import metrics \n",
    "from sklearn.utils import shuffle\n",
    "from sklearn.model_selection import train_test_split\n",
    "import matplotlib.image as mpimg\n",
    "import matplotlib.pyplot as plt\n",
    "import numpy as np\n",
    "import pandas as pd\n",
    "import os\n",
    "from tqdm import tqdm\n",
    "import cv2\n",
    "from random import random\n",
    "from PIL import Image\n",
    "import theano"
   ]
  },
  {
   "cell_type": "code",
   "execution_count": 3,
   "id": "19b86a5b",
   "metadata": {},
   "outputs": [],
   "source": [
    "from sklearn.preprocessing import MinMaxScaler\n",
    "from sklearn.preprocessing import LabelEncoder\n",
    "from sklearn.metrics import mean_squared_error\n",
    "from sklearn.impute import SimpleImputer\n",
    "from sklearn.model_selection import train_test_split\n",
    "from keras.utils.vis_utils import plot_model"
   ]
  },
  {
   "cell_type": "code",
   "execution_count": 4,
   "id": "cb5c59ca",
   "metadata": {},
   "outputs": [],
   "source": [
    "Final_Normal_Spec = pd.read_csv(\"Bin_Final_Normal_Spec.csv\")\n",
    "Final_Normal_Spec = Final_Normal_Spec[:70000]\n",
    "Final_Fuzz_Spec = pd.read_csv(\"Bin_Final_Fuzz_Spec.csv\")\n",
    "Final_Fuzz_Spec = Final_Fuzz_Spec[:139586]\n",
    "Final_DoS_Spec = pd.read_csv(\"Bin_Final_DoS_Spec.csv\")\n",
    "Final_DoS_Spec = Final_DoS_Spec[:100000]\n",
    "Final_Replay_Spec = pd.read_csv(\"Bin_Final_Replay_Spec.csv\")\n",
    "\n",
    "Concat = pd.concat([pd.DataFrame(Final_Normal_Spec.values), pd.DataFrame(Final_Fuzz_Spec.values), \n",
    "                    pd.DataFrame(Final_DoS_Spec.values), pd.DataFrame(Final_Replay_Spec.values)], \n",
    "                   ignore_index=True) "
   ]
  },
  {
   "cell_type": "code",
   "execution_count": 5,
   "id": "07c5be12",
   "metadata": {},
   "outputs": [],
   "source": [
    "Concat = np.array(Concat)"
   ]
  },
  {
   "cell_type": "code",
   "execution_count": 6,
   "id": "dd53316b",
   "metadata": {},
   "outputs": [
    {
     "name": "stdout",
     "output_type": "stream",
     "text": [
      "(360000, 259)\n"
     ]
    }
   ],
   "source": [
    "Final = np.array(Concat)\n",
    "print(Final.shape)"
   ]
  },
  {
   "cell_type": "code",
   "execution_count": 7,
   "id": "bb1e7fc9",
   "metadata": {},
   "outputs": [
    {
     "name": "stdout",
     "output_type": "stream",
     "text": [
      "Old: (360, 1000, 259)\n",
      "Updated: (360000, 259)\n"
     ]
    }
   ],
   "source": [
    "Final = Final.reshape(-1,1000,Final.shape[1])\n",
    "shuffle_idx = np.random.permutation(Final.shape[0])\n",
    "Final = Final[shuffle_idx]\n",
    "print('Old:', Final.shape)\n",
    "Final = Final.reshape(360000, 259)\n",
    "print('Updated:',Final.shape)"
   ]
  },
  {
   "cell_type": "code",
   "execution_count": null,
   "id": "e80dc8ae",
   "metadata": {},
   "outputs": [],
   "source": []
  },
  {
   "cell_type": "code",
   "execution_count": 8,
   "id": "5c274411",
   "metadata": {},
   "outputs": [],
   "source": [
    "X = Final[:, :258]\n",
    "y = Final[:,258]"
   ]
  },
  {
   "cell_type": "code",
   "execution_count": 9,
   "id": "988c1369",
   "metadata": {},
   "outputs": [
    {
     "data": {
      "text/plain": [
       "(360000, 258)"
      ]
     },
     "execution_count": 9,
     "metadata": {},
     "output_type": "execute_result"
    }
   ],
   "source": [
    "#Data normalization by scalling\n",
    "scaler = MinMaxScaler(feature_range=(0, 1))\n",
    "X = scaler.fit_transform(X)\n",
    "X.shape"
   ]
  },
  {
   "cell_type": "code",
   "execution_count": 10,
   "id": "f022fad8",
   "metadata": {},
   "outputs": [
    {
     "data": {
      "text/plain": [
       "1.0    290000\n",
       "0.0     70000\n",
       "dtype: int64"
      ]
     },
     "execution_count": 10,
     "metadata": {},
     "output_type": "execute_result"
    }
   ],
   "source": [
    "pd.value_counts(y)"
   ]
  },
  {
   "cell_type": "code",
   "execution_count": 11,
   "id": "933932a0",
   "metadata": {},
   "outputs": [
    {
     "name": "stdout",
     "output_type": "stream",
     "text": [
      "359981\n",
      "359981\n"
     ]
    }
   ],
   "source": [
    "X_trainX = []\n",
    "y_trainX = []\n",
    "strat_time = 0\n",
    "timestamp = 10\n",
    "length = len(Final)\n",
    "\n",
    "for i in range(length):\n",
    "    X_trainX.append(X[strat_time:timestamp, :258])\n",
    "    y_trainX.append(y[timestamp])\n",
    "    \n",
    "    if timestamp >= 360000-10:\n",
    "        break\n",
    "    \n",
    "    strat_time = strat_time + 1\n",
    "    timestamp = timestamp + 1\n",
    "print(len(X_trainX))\n",
    "print(len(y_trainX))"
   ]
  },
  {
   "cell_type": "code",
   "execution_count": 12,
   "id": "2cf198fc",
   "metadata": {},
   "outputs": [],
   "source": [
    "X_train, X_test, y_train, y_test = train_test_split(X_trainX, y_trainX, test_size=0.05, random_state=0)"
   ]
  },
  {
   "cell_type": "code",
   "execution_count": 14,
   "id": "7ff88ec9",
   "metadata": {},
   "outputs": [],
   "source": [
    "X_train = np.array(X_train)\n",
    "y_train = np.array(y_train)\n",
    "X_test = np.array(X_test)\n",
    "y_test = np.array(y_test)"
   ]
  },
  {
   "cell_type": "code",
   "execution_count": 15,
   "id": "3883ba40",
   "metadata": {},
   "outputs": [
    {
     "data": {
      "text/plain": [
       "1.0    275546\n",
       "0.0     66435\n",
       "dtype: int64"
      ]
     },
     "execution_count": 15,
     "metadata": {},
     "output_type": "execute_result"
    }
   ],
   "source": [
    "pd.value_counts(y_train)"
   ]
  },
  {
   "cell_type": "code",
   "execution_count": 16,
   "id": "c0bed2fb",
   "metadata": {},
   "outputs": [],
   "source": [
    "y_train = to_categorical(y_train, 2)\n",
    "y_test = to_categorical(y_test, 2)"
   ]
  },
  {
   "cell_type": "code",
   "execution_count": 17,
   "id": "84c8cf53",
   "metadata": {},
   "outputs": [
    {
     "name": "stdout",
     "output_type": "stream",
     "text": [
      "[1. 0.]\n",
      "[0. 1.]\n",
      "[0. 1.]\n",
      "[0. 1.]\n"
     ]
    }
   ],
   "source": [
    "print(y_train[0])\n",
    "print(y_test[64])\n",
    "print(y_train[2345])\n",
    "print(y_test[97])"
   ]
  },
  {
   "cell_type": "code",
   "execution_count": 18,
   "id": "6130d9a1",
   "metadata": {},
   "outputs": [
    {
     "name": "stdout",
     "output_type": "stream",
     "text": [
      "(341981, 10, 258)\n"
     ]
    }
   ],
   "source": [
    "print(X_train.shape)"
   ]
  },
  {
   "cell_type": "code",
   "execution_count": 19,
   "id": "f58213df",
   "metadata": {},
   "outputs": [],
   "source": [
    "#Resape data into 3 dimention\n",
    "X_train = np.reshape(X_train, (X_train.shape[0], 10, 258, 1))\n",
    "X_test = np.reshape(X_test, (X_test.shape[0], 10, 258, 1))"
   ]
  },
  {
   "cell_type": "code",
   "execution_count": 20,
   "id": "3290976a",
   "metadata": {},
   "outputs": [
    {
     "name": "stdout",
     "output_type": "stream",
     "text": [
      "[[[1.26449390e-09]\n",
      "  [8.87805650e-09]\n",
      "  [9.88166044e-09]\n",
      "  ...\n",
      "  [3.96649579e-02]\n",
      "  [1.33571094e-01]\n",
      "  [1.31426361e-01]]\n",
      "\n",
      " [[1.06389297e-09]\n",
      "  [9.34318542e-09]\n",
      "  [1.06072098e-08]\n",
      "  ...\n",
      "  [4.08045279e-02]\n",
      "  [1.32990929e-01]\n",
      "  [1.30021751e-01]]\n",
      "\n",
      " [[2.29334310e-09]\n",
      "  [9.73657954e-09]\n",
      "  [1.11244076e-08]\n",
      "  ...\n",
      "  [4.16978271e-02]\n",
      "  [1.32410098e-01]\n",
      "  [1.28799270e-01]]\n",
      "\n",
      " ...\n",
      "\n",
      " [[3.87065415e-08]\n",
      "  [3.60314277e-08]\n",
      "  [2.68423689e-08]\n",
      "  ...\n",
      "  [3.84967450e-02]\n",
      "  [1.28604573e-01]\n",
      "  [1.26793296e-01]]\n",
      "\n",
      " [[2.45743667e-08]\n",
      "  [4.05192483e-08]\n",
      "  [3.10770146e-08]\n",
      "  ...\n",
      "  [3.56929948e-02]\n",
      "  [1.28013155e-01]\n",
      "  [1.27780398e-01]]\n",
      "\n",
      " [[4.56395943e-09]\n",
      "  [4.32915989e-08]\n",
      "  [3.47052678e-08]\n",
      "  ...\n",
      "  [3.23356900e-02]\n",
      "  [1.27594326e-01]\n",
      "  [1.29292025e-01]]]\n",
      "\n",
      "\n",
      "[1. 0.]\n"
     ]
    }
   ],
   "source": [
    "print(X_train[0])\n",
    "print('\\n')\n",
    "print(y_train[0])"
   ]
  },
  {
   "cell_type": "code",
   "execution_count": 21,
   "id": "37aba7fd",
   "metadata": {},
   "outputs": [
    {
     "name": "stdout",
     "output_type": "stream",
     "text": [
      "Model: \"sequential\"\n",
      "_________________________________________________________________\n",
      " Layer (type)                Output Shape              Param #   \n",
      "=================================================================\n",
      " conv2d (Conv2D)             (None, 10, 258, 32)       320       \n",
      "                                                                 \n",
      " leaky_re_lu (LeakyReLU)     (None, 10, 258, 32)       0         \n",
      "                                                                 \n",
      " max_pooling2d (MaxPooling2D  (None, 5, 129, 32)       0         \n",
      " )                                                               \n",
      "                                                                 \n",
      " dropout (Dropout)           (None, 5, 129, 32)        0         \n",
      "                                                                 \n",
      " conv2d_1 (Conv2D)           (None, 5, 129, 64)        18496     \n",
      "                                                                 \n",
      " leaky_re_lu_1 (LeakyReLU)   (None, 5, 129, 64)        0         \n",
      "                                                                 \n",
      " max_pooling2d_1 (MaxPooling  (None, 3, 65, 64)        0         \n",
      " 2D)                                                             \n",
      "                                                                 \n",
      " dropout_1 (Dropout)         (None, 3, 65, 64)         0         \n",
      "                                                                 \n",
      " conv2d_2 (Conv2D)           (None, 3, 65, 128)        73856     \n",
      "                                                                 \n",
      " leaky_re_lu_2 (LeakyReLU)   (None, 3, 65, 128)        0         \n",
      "                                                                 \n",
      " max_pooling2d_2 (MaxPooling  (None, 2, 33, 128)       0         \n",
      " 2D)                                                             \n",
      "                                                                 \n",
      " dropout_2 (Dropout)         (None, 2, 33, 128)        0         \n",
      "                                                                 \n",
      " flatten (Flatten)           (None, 8448)              0         \n",
      "                                                                 \n",
      " dense (Dense)               (None, 128)               1081472   \n",
      "                                                                 \n",
      " leaky_re_lu_3 (LeakyReLU)   (None, 128)               0         \n",
      "                                                                 \n",
      " dropout_3 (Dropout)         (None, 128)               0         \n",
      "                                                                 \n",
      " dense_1 (Dense)             (None, 2)                 258       \n",
      "                                                                 \n",
      "=================================================================\n",
      "Total params: 1,174,402\n",
      "Trainable params: 1,174,402\n",
      "Non-trainable params: 0\n",
      "_________________________________________________________________\n"
     ]
    }
   ],
   "source": [
    "model = Sequential()\n",
    "model.add(Conv2D(32, kernel_size=(3, 3),activation='leaky_relu',padding='same',input_shape=(10, 258, 1)))\n",
    "model.add(LeakyReLU(alpha=0.1))\n",
    "model.add(MaxPooling2D((2, 2),padding='same'))\n",
    "model.add(Dropout(0.1))\n",
    "\n",
    "model.add(Conv2D(64, (3, 3), activation='leaky_relu',padding='same'))\n",
    "model.add(LeakyReLU(alpha=0.1))\n",
    "model.add(MaxPooling2D(pool_size=(2, 2),padding='same'))\n",
    "model.add(Dropout(0.1))\n",
    "\n",
    "model.add(Conv2D(128, (3, 3), activation='leaky_relu',padding='same'))\n",
    "model.add(LeakyReLU(alpha=0.1))                  \n",
    "model.add(MaxPooling2D(pool_size=(2, 2),padding='same'))\n",
    "model.add(Dropout(0.1))\n",
    "model.add(Flatten())\n",
    "\n",
    "model.add(Dense(128, activation='leaky_relu'))\n",
    "model.add(LeakyReLU(alpha=0.1))           \n",
    "model.add(Dropout(0.1))\n",
    "model.add(Dense(2, activation='sigmoid'))\n",
    "\n",
    "optimizer = tf.keras.optimizers.Adam(learning_rate=0.0001)\n",
    "\n",
    "model.compile(optimizer = optimizer, loss = 'binary_crossentropy', metrics=['acc'])\n",
    "\n",
    "model.summary()"
   ]
  },
  {
   "cell_type": "code",
   "execution_count": 22,
   "id": "e8b3f666",
   "metadata": {},
   "outputs": [],
   "source": [
    "cp = tf.keras.callbacks.ModelCheckpoint(filepath=\"Final_BIN_CNN.h5\",\n",
    "                               mode='min', monitor='val_loss', verbose=0, save_best_only=True)\n",
    "# define our early stopping\n",
    "early_stop = tf.keras.callbacks.EarlyStopping(\n",
    "    monitor='val_loss',\n",
    "    min_delta=0.0001,\n",
    "    patience=10,\n",
    "    verbose=1, \n",
    "    mode='min',\n",
    "    restore_best_weights=True)"
   ]
  },
  {
   "cell_type": "code",
   "execution_count": 23,
   "id": "ff273f02",
   "metadata": {},
   "outputs": [
    {
     "name": "stdout",
     "output_type": "stream",
     "text": [
      "Epoch 1/250\n",
      "5344/5344 [==============================] - 46s 8ms/step - loss: 0.0235 - acc: 0.9947 - val_loss: 0.0051 - val_acc: 0.9992\n",
      "Epoch 2/250\n",
      "5344/5344 [==============================] - 42s 8ms/step - loss: 0.0048 - acc: 0.9993 - val_loss: 0.0038 - val_acc: 0.9996\n",
      "Epoch 3/250\n",
      "5344/5344 [==============================] - 42s 8ms/step - loss: 0.0038 - acc: 0.9995 - val_loss: 0.0038 - val_acc: 0.9997\n",
      "Epoch 4/250\n",
      "5344/5344 [==============================] - 42s 8ms/step - loss: 0.0035 - acc: 0.9996 - val_loss: 0.0033 - val_acc: 0.9997\n",
      "Epoch 5/250\n",
      "5344/5344 [==============================] - 42s 8ms/step - loss: 0.0033 - acc: 0.9996 - val_loss: 0.0031 - val_acc: 0.9997\n",
      "Epoch 6/250\n",
      "5344/5344 [==============================] - 43s 8ms/step - loss: 0.0031 - acc: 0.9997 - val_loss: 0.0033 - val_acc: 0.9997\n",
      "Epoch 7/250\n",
      "5344/5344 [==============================] - 43s 8ms/step - loss: 0.0031 - acc: 0.9997 - val_loss: 0.0031 - val_acc: 0.9997\n",
      "Epoch 8/250\n",
      "5344/5344 [==============================] - 43s 8ms/step - loss: 0.0030 - acc: 0.9997 - val_loss: 0.0030 - val_acc: 0.9997\n",
      "Epoch 9/250\n",
      "5344/5344 [==============================] - 43s 8ms/step - loss: 0.0029 - acc: 0.9997 - val_loss: 0.0031 - val_acc: 0.9997\n",
      "Epoch 10/250\n",
      "5344/5344 [==============================] - 42s 8ms/step - loss: 0.0028 - acc: 0.9997 - val_loss: 0.0030 - val_acc: 0.9997\n",
      "Epoch 11/250\n",
      "5344/5344 [==============================] - 42s 8ms/step - loss: 0.0028 - acc: 0.9997 - val_loss: 0.0030 - val_acc: 0.9997\n",
      "Epoch 12/250\n",
      "5344/5344 [==============================] - 43s 8ms/step - loss: 0.0027 - acc: 0.9997 - val_loss: 0.0042 - val_acc: 0.9996\n",
      "Epoch 13/250\n",
      "5344/5344 [==============================] - 43s 8ms/step - loss: 0.0027 - acc: 0.9997 - val_loss: 0.0032 - val_acc: 0.9997\n",
      "Epoch 14/250\n",
      "5344/5344 [==============================] - 43s 8ms/step - loss: 0.0027 - acc: 0.9997 - val_loss: 0.0035 - val_acc: 0.9997\n",
      "Epoch 15/250\n",
      "5344/5344 [==============================] - 43s 8ms/step - loss: 0.0026 - acc: 0.9997 - val_loss: 0.0034 - val_acc: 0.9997\n",
      "Epoch 16/250\n",
      "5344/5344 [==============================] - 43s 8ms/step - loss: 0.0026 - acc: 0.9997 - val_loss: 0.0032 - val_acc: 0.9997\n",
      "Epoch 17/250\n",
      "5344/5344 [==============================] - 43s 8ms/step - loss: 0.0025 - acc: 0.9997 - val_loss: 0.0034 - val_acc: 0.9997\n",
      "Epoch 18/250\n",
      "5341/5344 [============================>.] - ETA: 0s - loss: 0.0025 - acc: 0.9997Restoring model weights from the end of the best epoch: 8.\n",
      "5344/5344 [==============================] - 43s 8ms/step - loss: 0.0025 - acc: 0.9997 - val_loss: 0.0032 - val_acc: 0.9997\n",
      "Epoch 00018: early stopping\n"
     ]
    }
   ],
   "source": [
    "history = model.fit(X_train, y_train,\n",
    "                    epochs=250,\n",
    "                    batch_size=64,\n",
    "                    shuffle=True,\n",
    "                    validation_data=(X_test, y_test),\n",
    "                    verbose=1,\n",
    "                    callbacks=[cp, early_stop]\n",
    "                    ).history"
   ]
  },
  {
   "cell_type": "code",
   "execution_count": 24,
   "id": "3b1a01ed",
   "metadata": {},
   "outputs": [
    {
     "data": {
      "image/png": "[encoded data removed]",
      "text/plain": [
       "<Figure size 640x480 with 1 Axes>"
      ]
     },
     "metadata": {
      "needs_background": "light"
     },
     "output_type": "display_data"
    }
   ],
   "source": [
    "# plot the training losses\n",
    "fig, ax = plt.subplots(figsize=(8, 6), dpi=80)\n",
    "ax.plot(model.history.history['loss'], 'b', label='Train', linewidth=2)\n",
    "ax.plot(model.history.history['val_loss'], 'r', label='Validation', linewidth=2)\n",
    "ax.set_title('Model loss', fontsize=16)\n",
    "ax.set_ylabel('Loss (mae)')\n",
    "ax.set_xlabel('Epoch')\n",
    "ax.legend(loc='upper right')\n",
    "plt.show()"
   ]
  },
  {
   "cell_type": "code",
   "execution_count": 25,
   "id": "d3164716",
   "metadata": {},
   "outputs": [
    {
     "name": "stdout",
     "output_type": "stream",
     "text": [
      "(4433, 259)\n"
     ]
    }
   ],
   "source": [
    "Tesla_Normal_Spec = pd.read_csv(\"Bin_Tesla_Normal_Spec.csv\")\n",
    "Tesla_Fuzz_Spec = pd.read_csv(\"Bin_Tesla_Fuzz_Spec.csv\")\n",
    "Tesla_DoS_Spec = pd.read_csv(\"Bin_Tesla_DoS_Spec.csv\")\n",
    "Tesla_Replay_Spec = pd.read_csv(\"Bin_Tesla_Replay_Spec.csv\")\n",
    "\n",
    "\n",
    "\n",
    "tesla = pd.concat([pd.DataFrame(Tesla_Normal_Spec.values), pd.DataFrame(Tesla_Fuzz_Spec.values), \n",
    "                    pd.DataFrame(Tesla_DoS_Spec.values), pd.DataFrame(Tesla_Replay_Spec.values)], \n",
    "                   ignore_index=True) \n",
    "print(tesla.shape)"
   ]
  },
  {
   "cell_type": "code",
   "execution_count": 26,
   "id": "39431160",
   "metadata": {},
   "outputs": [],
   "source": [
    "tesla = np.array(tesla)"
   ]
  },
  {
   "cell_type": "code",
   "execution_count": 27,
   "id": "9a3e2b12",
   "metadata": {},
   "outputs": [],
   "source": [
    "X = tesla[:, :258]\n",
    "y = tesla[:,258]"
   ]
  },
  {
   "cell_type": "code",
   "execution_count": 28,
   "id": "d9f25efe",
   "metadata": {},
   "outputs": [
    {
     "data": {
      "text/plain": [
       "(4433, 258)"
      ]
     },
     "execution_count": 28,
     "metadata": {},
     "output_type": "execute_result"
    }
   ],
   "source": [
    "#Data normalization by scalling\n",
    "scaler = MinMaxScaler(feature_range=(0, 1))\n",
    "X = scaler.fit_transform(X)\n",
    "X.shape"
   ]
  },
  {
   "cell_type": "code",
   "execution_count": 29,
   "id": "7f418c2e",
   "metadata": {},
   "outputs": [
    {
     "name": "stdout",
     "output_type": "stream",
     "text": [
      "4414\n",
      "4414\n"
     ]
    }
   ],
   "source": [
    "X_trainX = []\n",
    "y_trainX = []\n",
    "strat_time = 0\n",
    "timestamp = 10\n",
    "length = len(Final)\n",
    "\n",
    "for i in range(length):\n",
    "    X_trainX.append(X[strat_time:timestamp, :258])\n",
    "    y_trainX.append(y[timestamp])\n",
    "    \n",
    "    if timestamp >= 4433-10:\n",
    "        break\n",
    "    \n",
    "    strat_time = strat_time + 1\n",
    "    timestamp = timestamp + 1\n",
    "print(len(X_trainX))\n",
    "print(len(y_trainX))\n",
    "\n",
    "X_trainX = np.array(X_trainX)\n",
    "y_trainX = np.array(y_trainX)"
   ]
  },
  {
   "cell_type": "code",
   "execution_count": 30,
   "id": "afaf1ced",
   "metadata": {},
   "outputs": [],
   "source": [
    "y_trainX = to_categorical(y_trainX, 2)"
   ]
  },
  {
   "cell_type": "code",
   "execution_count": 31,
   "id": "6a20923a",
   "metadata": {},
   "outputs": [],
   "source": [
    "from keras.models import load_model\n",
    "\n",
    "# returns a compiled model\n",
    "# identical to the previous one\n",
    "model = load_model('Final_BIN_CNN.h5')"
   ]
  },
  {
   "cell_type": "code",
   "execution_count": 32,
   "id": "27e602ea",
   "metadata": {},
   "outputs": [],
   "source": [
    "#Prediction\n",
    "pred = model.predict(X_trainX)\n",
    "#obj = scaler.fit(y_pred)\n",
    "#predicted = obj.inverse_transform(y_pred)"
   ]
  },
  {
   "cell_type": "code",
   "execution_count": 33,
   "id": "cbba462c",
   "metadata": {},
   "outputs": [
    {
     "name": "stdout",
     "output_type": "stream",
     "text": [
      "[[1886    3]\n",
      " [   7 2518]]\n"
     ]
    }
   ],
   "source": [
    "from sklearn.metrics import confusion_matrix\n",
    "\n",
    "y_pred = np.argmax(pred, axis=1)\n",
    "# label\n",
    "y_test = np.argmax(y_trainX, axis=1)\n",
    "#Get the confusion matrix\n",
    "cf_matrix = confusion_matrix(y_test, y_pred)\n",
    "\n",
    "print(cf_matrix)"
   ]
  },
  {
   "cell_type": "code",
   "execution_count": 123,
   "id": "44543d64",
   "metadata": {},
   "outputs": [
    {
     "data": {
      "image/png": "[encoded data removed]",
      "text/plain": [
       "<Figure size 1080x936 with 1 Axes>"
      ]
     },
     "metadata": {},
     "output_type": "display_data"
    }
   ],
   "source": [
    "#group_names = ['True Neg','False Pos','False Neg','True Pos','True Pos','True Pos','True Pos','True Pos','True Pos']\n",
    "\n",
    "group_counts = [\"{0:0.0f}\".format(value) for value in\n",
    "                cf_matrix.flatten()]\n",
    "\n",
    "group_percentages = [\"{0:.2%}\".format(value) for value in\n",
    "                     cf_matrix.flatten()/np.sum(cf_matrix)]\n",
    "\n",
    "labels = [f\"{v1}\\n{v2}\\n\" for v1, v2 in\n",
    "          zip(group_counts,group_percentages)]\n",
    "\n",
    "labels = np.asarray(labels).reshape(2,2)\n",
    "sns.set(rc={'figure.figsize':(15,13)})\n",
    "sns.set(font_scale=1.8) #edited as suggested\n",
    "ax = sns.heatmap(cf_matrix, annot=labels, fmt='', cmap='Blues', cbar=False)\n",
    "\n",
    "\n",
    "ax.set_xlabel('\\nActual Category ', fontname=\"Times New Roman\", size=22,fontweight=\"bold\")\n",
    "ax.set_ylabel('Predicted Category \\n', fontname=\"Times New Roman\", size=22,fontweight=\"bold\");\n",
    "ax.text(0.2, 2.30, 'Fig. 9. (c) Confusion Matrix CNN Multiclass Classification',fontsize=25,fontweight=\"bold\")\n",
    "\n",
    "## Ticket labels - List must be in alphabetical order\n",
    "ax.xaxis.set_ticklabels([\"Normal\", \"DoS\"],fontweight=\"bold\", fontname=\"Times New Roman\", size=18)\n",
    "ax.yaxis.set_ticklabels([\"Normal\", \"DoS\"],fontweight=\"bold\", fontname=\"Times New Roman\", size=18)\n",
    "ax.xaxis.label.set_color('darkblue')\n",
    "ax.yaxis.label.set_color('darkblue')\n",
    "## Display the visualization of the Confusion Matrix.\n",
    "plt.show()"
   ]
  },
  {
   "cell_type": "code",
   "execution_count": null,
   "id": "f52acbe2",
   "metadata": {},
   "outputs": [],
   "source": [
    "#RdBu_r, rocket_r\n"
   ]
  },
  {
   "cell_type": "code",
   "execution_count": 124,
   "id": "4eb256dc",
   "metadata": {},
   "outputs": [
    {
     "name": "stdout",
     "output_type": "stream",
     "text": [
      "              precision    recall  f1-score   support\n",
      "\n",
      "      Normal       1.00      1.00      1.00      1889\n",
      "      Attack       1.00      1.00      1.00      2525\n",
      "\n",
      "    accuracy                           1.00      4414\n",
      "   macro avg       1.00      1.00      1.00      4414\n",
      "weighted avg       1.00      1.00      1.00      4414\n",
      "\n"
     ]
    }
   ],
   "source": [
    "from sklearn.metrics import classification_report\n",
    "class_names = [\"Normal\", \"Attack\"]\n",
    "print(classification_report(y_test, y_pred, target_names=class_names))"
   ]
  },
  {
   "cell_type": "code",
   "execution_count": 125,
   "id": "e3f01fc3",
   "metadata": {},
   "outputs": [
    {
     "data": {
      "text/plain": [
       "0.9978197904491348"
      ]
     },
     "execution_count": 125,
     "metadata": {},
     "output_type": "execute_result"
    }
   ],
   "source": [
    "from sklearn.metrics import roc_curve, auc\n",
    "false_positive_rate, true_positive_rate, thresholds = roc_curve(y_test, y_pred)\n",
    "roc_auc = auc(false_positive_rate, true_positive_rate)\n",
    "roc_auc"
   ]
  },
  {
   "cell_type": "code",
   "execution_count": 130,
   "id": "6cffbaa8",
   "metadata": {},
   "outputs": [
    {
     "data": {
      "text/plain": [
       "<matplotlib.legend.Legend at 0x2721ac69310>"
      ]
     },
     "execution_count": 130,
     "metadata": {},
     "output_type": "execute_result"
    },
    {
     "data": {
      "image/png": "[encoded data removed]",
      "text/plain": [
       "<Figure size 1080x720 with 1 Axes>"
      ]
     },
     "metadata": {},
     "output_type": "display_data"
    }
   ],
   "source": [
    "import matplotlib.pyplot as plt\n",
    "sns.set(rc={'figure.figsize':(15,10)})\n",
    "sns.set(font_scale=1.3) #edited as suggested\n",
    "\n",
    "plt.plot(false_positive_rate,true_positive_rate, color='red',label = 'BIN_CNN AUC = %0.2f' % roc_auc)\n",
    "plt.legend(loc = 'lower right')\n",
    "plt.plot([0, 1], [0, 1])\n",
    "\n",
    "plt.xlabel('False Positive Rate(TPR)', fontname=\"Times New Roman\", size=18, fontweight=\"bold\", color='darkblue')\n",
    "plt.ylabel('True Positive Rate (FPR)', fontname=\"Times New Roman\", size=18, fontweight=\"bold\", color='darkblue')\n",
    "plt.text(0.02, -0.22, 'Fig. 10. (c) RUC Score CNN Binary Class Classification Vehicle 4', fontname=\"Times New Roman\",fontsize=25,fontweight=\"bold\")\n",
    "plt.legend(loc=\"lower right\")"
   ]
  },
  {
   "cell_type": "code",
   "execution_count": null,
   "id": "88c378a8",
   "metadata": {},
   "outputs": [],
   "source": []
  },
  {
   "cell_type": "code",
   "execution_count": null,
   "id": "206cedbf",
   "metadata": {},
   "outputs": [],
   "source": []
  }
 ],
 "metadata": {
  "kernelspec": {
   "display_name": "Python 3 (ipykernel)",
   "language": "python",
   "name": "python3"
  },
  "language_info": {
   "codemirror_mode": {
    "name": "ipython",
    "version": 3
   },
   "file_extension": ".py",
   "mimetype": "text/x-python",
   "name": "python",
   "nbconvert_exporter": "python",
   "pygments_lexer": "ipython3",
   "version": "3.9.7"
  }
 },
 "nbformat": 4,
 "nbformat_minor": 5
}
