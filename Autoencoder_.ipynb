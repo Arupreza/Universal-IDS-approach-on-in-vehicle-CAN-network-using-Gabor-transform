{
 "cells": [
  {
   "cell_type": "code",
   "execution_count": 2,
   "id": "ceb9534e",
   "metadata": {},
   "outputs": [],
   "source": [
    "import pandas as pd\n",
    "import numpy as np\n",
    "from sklearn.model_selection import train_test_split\n",
    "from tensorflow.keras.models import Sequential\n",
    "from sklearn import preprocessing\n",
    "from tensorflow.keras.layers import Conv1D,Flatten,MaxPooling1D,Bidirectional,LSTM,Dropout,TimeDistributed,MaxPool1D\n",
    "from tensorflow.keras.layers import Dense,GlobalAveragePooling1D\n",
    "\n",
    "from tensorflow.keras.layers import Conv2D,Flatten,MaxPooling2D,Bidirectional,LSTM,Dropout,TimeDistributed,MaxPool2D\n",
    "from tensorflow.keras.layers import Dense,GlobalMaxPooling2D\n",
    "from tensorflow.keras.layers import RepeatVector\n",
    "from tensorflow.keras.utils import to_categorical\n",
    "from sklearn.preprocessing import LabelEncoder\n",
    "from keras import regularizers\n",
    "\n",
    "import matplotlib.pyplot as plt\n",
    "import os\n",
    "import pprint\n",
    "import tensorflow as tf\n",
    "from tensorflow.keras.layers import BatchNormalization\n",
    "from tensorflow.keras.layers import GRU\n",
    "import seaborn as sns"
   ]
  },
  {
   "cell_type": "code",
   "execution_count": 3,
   "id": "c9492582",
   "metadata": {},
   "outputs": [],
   "source": [
    "from sklearn.preprocessing import MinMaxScaler\n",
    "from sklearn.preprocessing import LabelEncoder\n",
    "from sklearn.metrics import mean_squared_error\n",
    "from sklearn.impute import SimpleImputer\n",
    "from sklearn.model_selection import train_test_split\n",
    "from keras.utils.vis_utils import plot_model\n",
    "from matplotlib import pyplot"
   ]
  },
  {
   "cell_type": "code",
   "execution_count": 4,
   "id": "fe2ab3e8",
   "metadata": {},
   "outputs": [],
   "source": [
    "# Packages / libraries\n",
    "import os #provides functions for interacting with the operating system\n",
    "import numpy as np \n",
    "import pandas as pd\n",
    "from matplotlib import pyplot as plt\n",
    "import seaborn as sns\n",
    "from sklearn.linear_model import LinearRegression\n",
    "from sklearn.linear_model import LogisticRegression\n",
    "from sklearn.tree import DecisionTreeClassifier\n",
    "from sklearn.model_selection import train_test_split\n",
    "from sklearn.metrics import r2_score, explained_variance_score, confusion_matrix, accuracy_score, classification_report, log_loss\n",
    "from math import sqrt\n",
    "\n",
    "from sklearn.cluster import KMeans, k_means"
   ]
  },
  {
   "cell_type": "code",
   "execution_count": 5,
   "id": "d6325933",
   "metadata": {},
   "outputs": [],
   "source": [
    "Final = pd.read_csv(\"Concatnated.csv\")"
   ]
  },
  {
   "cell_type": "code",
   "execution_count": 6,
   "id": "4db1856a",
   "metadata": {},
   "outputs": [
    {
     "data": {
      "text/plain": [
       "(292986, 447)"
      ]
     },
     "execution_count": 6,
     "metadata": {},
     "output_type": "execute_result"
    }
   ],
   "source": [
    "Final.shape"
   ]
  },
  {
   "cell_type": "code",
   "execution_count": 7,
   "id": "19d3ffbc",
   "metadata": {},
   "outputs": [
    {
     "name": "stdout",
     "output_type": "stream",
     "text": [
      "(292000, 447)\n"
     ]
    }
   ],
   "source": [
    "Final = np.array(Final[:292000])\n",
    "print(Final.shape)"
   ]
  },
  {
   "cell_type": "code",
   "execution_count": 8,
   "id": "b00d801e",
   "metadata": {},
   "outputs": [],
   "source": [
    "Final = Final.reshape(-1,1000,Final.shape[1])\n",
    "shuffle_idx = np.random.permutation(Final.shape[0])\n",
    "Final = Final[shuffle_idx]"
   ]
  },
  {
   "cell_type": "code",
   "execution_count": 9,
   "id": "386dd49a",
   "metadata": {},
   "outputs": [
    {
     "name": "stdout",
     "output_type": "stream",
     "text": [
      "Old: (292, 1000, 447)\n",
      "Updated: (292000, 447)\n"
     ]
    }
   ],
   "source": [
    "print('Old:', Final.shape)\n",
    "Final = Final.reshape(292000, 447)\n",
    "print('Updated:',Final.shape)"
   ]
  },
  {
   "cell_type": "code",
   "execution_count": 10,
   "id": "3796bc37",
   "metadata": {},
   "outputs": [],
   "source": [
    "X = Final[:, :446]\n",
    "y = Final[:,446]"
   ]
  },
  {
   "cell_type": "code",
   "execution_count": 11,
   "id": "3b170b94",
   "metadata": {},
   "outputs": [
    {
     "data": {
      "text/plain": [
       "(292000, 446)"
      ]
     },
     "execution_count": 11,
     "metadata": {},
     "output_type": "execute_result"
    }
   ],
   "source": [
    "#Data normalization by scalling\n",
    "scaler = MinMaxScaler(feature_range=(0, 1))\n",
    "X = scaler.fit_transform(X)\n",
    "X.shape"
   ]
  },
  {
   "cell_type": "code",
   "execution_count": 12,
   "id": "923174fe",
   "metadata": {},
   "outputs": [
    {
     "data": {
      "text/plain": [
       "0.0    146493\n",
       "1.0     48831\n",
       "2.0     48831\n",
       "3.0     47845\n",
       "dtype: int64"
      ]
     },
     "execution_count": 12,
     "metadata": {},
     "output_type": "execute_result"
    }
   ],
   "source": [
    "pd.value_counts(y)"
   ]
  },
  {
   "cell_type": "code",
   "execution_count": 12,
   "id": "7e4e1fa2",
   "metadata": {},
   "outputs": [
    {
     "name": "stdout",
     "output_type": "stream",
     "text": [
      "291990\n",
      "291990\n"
     ]
    }
   ],
   "source": [
    "X_trainX = []\n",
    "y_trainX = []\n",
    "strat_time = 0\n",
    "timestamp = 10\n",
    "length = len(Final)\n",
    "\n",
    "for i in range(length):\n",
    "    X_trainX.append(X[strat_time:timestamp, :446])\n",
    "    y_trainX.append(y[timestamp])\n",
    "    \n",
    "    if timestamp >= 291999:\n",
    "        break\n",
    "    \n",
    "    strat_time = strat_time + 1\n",
    "    timestamp = timestamp + 1\n",
    "print(len(X_trainX))\n",
    "print(len(y_trainX))"
   ]
  },
  {
   "cell_type": "code",
   "execution_count": 13,
   "id": "3d3ab777",
   "metadata": {},
   "outputs": [],
   "source": [
    "X_train, X_test, y_train, y_test = train_test_split(X, y, test_size=0.05)"
   ]
  },
  {
   "cell_type": "code",
   "execution_count": 14,
   "id": "e82cbb63",
   "metadata": {},
   "outputs": [],
   "source": [
    "X_train = np.array(X_train)\n",
    "y_train = np.array(y_train)\n",
    "X_test = np.array(X_test)\n",
    "y_test = np.array(y_test)"
   ]
  },
  {
   "cell_type": "code",
   "execution_count": 37,
   "id": "e17845e2",
   "metadata": {},
   "outputs": [
    {
     "data": {
      "text/plain": [
       "'y_train = to_categorical(y_train, 4)\\ny_test = to_categorical(y_test, 4)'"
      ]
     },
     "execution_count": 37,
     "metadata": {},
     "output_type": "execute_result"
    }
   ],
   "source": [
    "'''y_train = to_categorical(y_train, 4)\n",
    "y_test = to_categorical(y_test, 4)'''"
   ]
  },
  {
   "cell_type": "code",
   "execution_count": 16,
   "id": "21fbb569",
   "metadata": {},
   "outputs": [
    {
     "name": "stdout",
     "output_type": "stream",
     "text": [
      "[0. 0. 1. 0.]\n",
      "[1. 0. 0. 0.]\n",
      "[1. 0. 0. 0.]\n",
      "[1. 0. 0. 0.]\n"
     ]
    }
   ],
   "source": [
    "print(y_train[0])\n",
    "print(y_test[64])\n",
    "print(y_train[2345])\n",
    "print(y_test[97])"
   ]
  },
  {
   "cell_type": "code",
   "execution_count": 15,
   "id": "04ca1b4b",
   "metadata": {},
   "outputs": [],
   "source": [
    "#Resape data into 3 dimention\n",
    "X_train = np.reshape(X_train, (X_train.shape[0], 1, 446))\n",
    "X_test = np.reshape(X_test, (X_test.shape[0], 1, 446))"
   ]
  },
  {
   "cell_type": "code",
   "execution_count": 18,
   "id": "d9e3701a",
   "metadata": {},
   "outputs": [
    {
     "name": "stdout",
     "output_type": "stream",
     "text": [
      "[[7.14689215e-03 9.62910784e-03 4.75727708e-02 7.85996550e-02\n",
      "  1.49367441e-02 6.50085187e-02 1.10669916e-02 1.69698702e-03\n",
      "  3.84030160e-02 1.87789489e-02 2.90905265e-02 8.49726677e-03\n",
      "  3.23776213e-02 3.24957645e-02 2.02707275e-04 2.07940721e-02\n",
      "  2.66403829e-03 2.70937482e-03 8.13213707e-04 1.93268971e-03\n",
      "  3.45358455e-04 1.80238810e-02 8.44224900e-04 9.08678765e-03\n",
      "  4.98960405e-03 2.48726588e-03 2.24957801e-01 4.20649893e-04\n",
      "  8.58254881e-02 3.16880482e-03 1.54613192e-02 1.07037083e-02\n",
      "  1.82240795e-02 8.40992427e-02 1.14082201e-01 3.33706492e-03\n",
      "  5.79766806e-03 5.50281710e-04 1.74180124e-03 4.00401061e-02\n",
      "  1.02850570e-02 3.27689871e-04 2.45961147e-04 1.17234960e-03\n",
      "  1.10060192e-03 3.01238759e-04 4.50513210e-04 2.42482133e-03\n",
      "  1.62400488e-01 2.21959553e-01 9.19634252e-02 3.29834595e-01\n",
      "  9.47875731e-02 3.22920527e-01 1.64339318e-01 2.03369593e-01\n",
      "  4.87065822e-02 6.34958978e-03 1.16339871e-01 1.73939387e-01\n",
      "  8.70909955e-02 5.56887379e-01 1.14058059e-01 1.62487675e-01\n",
      "  1.22420557e-01 1.84818974e-01 4.44125519e-01 1.14670482e-01\n",
      "  8.27730946e-02 1.28475750e-01 2.71922696e-01 1.51256256e-01\n",
      "  6.84753698e-02 1.02556049e-01 1.61463766e-01 1.35587462e-01\n",
      "  3.71941387e-01 1.62385422e-01 7.66493638e-02 1.62982103e-02\n",
      "  7.10234627e-02 9.78054837e-02 2.27002236e-01 6.61151201e-02\n",
      "  8.58712231e-02 2.44926593e-02 5.25508629e-01 2.37909318e-02\n",
      "  7.97560530e-03 6.02218212e-02 4.93636603e-01 9.58547775e-02\n",
      "  2.08101668e-01 3.43693069e-01 7.86569671e-02 2.18746214e-01\n",
      "  2.43699897e-01 1.81811930e-02 1.12958496e-02 3.57879264e-01\n",
      "  2.54119010e-02 1.04603936e-01 7.59440696e-02 6.07798638e-02\n",
      "  4.10672338e-01 6.99410201e-02 5.64514005e-02 5.78624370e-02\n",
      "  2.25144483e-01 1.45462113e-01 1.44017636e-01 4.30180442e-01\n",
      "  7.70553198e-02 2.19975526e-01 1.10245216e-01 1.68253880e-01\n",
      "  6.86695659e-04 2.33480626e-01 8.63491379e-02 1.08902937e-01\n",
      "  1.42452526e-01 8.46036982e-02 6.75875694e-02 5.77429616e-02\n",
      "  3.86039507e-02 1.81741803e-01 3.41706892e-01 3.93428314e-01\n",
      "  3.43662733e-01 2.21187585e-01 1.23115149e-01 3.89194400e-01\n",
      "  7.12729866e-02 3.71938537e-02 1.24749338e-01 4.84707272e-04\n",
      "  1.69017091e-01 3.45124676e-01 3.53209983e-01 8.66691295e-03\n",
      "  1.73295183e-01 5.29652272e-02 2.41324526e-01 2.53801229e-02\n",
      "  1.06308822e-03 1.46657658e-01 8.01328937e-02 3.26993843e-01\n",
      "  2.56570927e-01 1.79500257e-02 2.37354065e-01 3.63819995e-02\n",
      "  5.16799101e-02 1.75146862e-01 1.38382850e-01 2.42092423e-02\n",
      "  9.27855176e-02 3.75919174e-03 2.58088424e-01 3.97194894e-01\n",
      "  2.03219182e-03 8.53335088e-02 1.18744892e-02 4.83377939e-02\n",
      "  6.74482752e-02 1.40653714e-01 5.06640193e-02 9.68058080e-03\n",
      "  3.60429975e-02 1.46461847e-01 1.82771377e-01 5.09836577e-01\n",
      "  9.63519871e-02 2.04583887e-02 4.88696272e-02 2.50107501e-02\n",
      "  4.78739311e-01 9.39170755e-02 2.69755146e-02 6.24976559e-01\n",
      "  2.73512058e-01 1.67054273e-01 4.51440915e-01 5.35690283e-02\n",
      "  3.40471263e-01 6.57761955e-02 4.73872245e-01 9.80713101e-02\n",
      "  8.63679509e-03 7.58959264e-02 5.46551118e-02 1.12743590e-01\n",
      "  7.52446232e-02 6.47172336e-01 6.85180637e-01 4.43776258e-01\n",
      "  6.31751694e-01 5.01235819e-02 7.11037113e-02 1.62793156e-01\n",
      "  1.41783654e-01 2.99360487e-01 2.86938688e-01 3.37723803e-01\n",
      "  1.98659673e-01 1.57807440e-01 1.58848945e-01 2.01378520e-01\n",
      "  6.76048388e-02 1.96086164e-02 1.07118597e-01 2.33879586e-01\n",
      "  5.76063989e-02 7.99299467e-02 4.11012551e-02 1.53643827e-01\n",
      "  3.84140420e-02 1.33831143e-01 1.06505746e-01 1.11736492e-01\n",
      "  1.99883360e-02 4.77818565e-02 2.41607028e-02 2.02008926e-05\n",
      "  2.76897449e-05 2.46581915e-04 1.06114799e-05 1.70938889e-04\n",
      "  6.63843330e-07 1.28255984e-05 6.98491418e-07 9.76845891e-05\n",
      "  1.88576026e-05 3.59729349e-05 3.21924548e-06 2.00766589e-04\n",
      "  9.98727049e-08 4.33194575e-06 3.01905121e-08 9.17009874e-08\n",
      "  1.94629318e-06 8.67721774e-07 4.48054825e-06 2.51023228e-05\n",
      "  6.19452230e-07 5.48173292e-09 1.57487456e-08 1.00048681e-06\n",
      "  5.23271333e-07 1.89740892e-06 5.84416884e-06 1.63961618e-05\n",
      "  8.83067912e-06 1.19686249e-08 1.04462518e-07 6.12241431e-07\n",
      "  2.82573237e-07 1.95993469e-07 1.84932287e-08 3.89867827e-07\n",
      "  4.74247557e-06 1.17513528e-07 3.30172939e-08 1.62896079e-07\n",
      "  3.76174379e-07 1.21482100e-06 2.49550839e-07 3.98120804e-06\n",
      "  9.59677195e-06 9.86701494e-06 5.46060379e-05 1.12292235e-05\n",
      "  4.94481646e-06 1.14369345e-05 4.52427780e-05 1.14483428e-04\n",
      "  1.65832868e-03 9.07581049e-05 1.73805206e-04 9.43287939e-05\n",
      "  3.18744003e-06 4.75671415e-06 1.39832046e-05 1.08054369e-05\n",
      "  4.46284382e-04 1.54495333e-03 7.74510719e-04 4.00762114e-04\n",
      "  5.68074428e-05 1.97639258e-05 4.41069188e-05 1.95609401e-05\n",
      "  6.42539539e-04 1.08801903e-02 5.87603601e-05 1.87817088e-03\n",
      "  1.14369666e-02 2.57146193e-04 4.57958629e-05 5.42798055e-05\n",
      "  1.64927608e-05 7.84000648e-04 2.17889992e-04 1.82939484e-06\n",
      "  4.68996480e-04 1.15176059e-03 1.30264694e-04 3.55492142e-05\n",
      "  7.40341386e-05 6.24019742e-04 5.39572727e-04 1.04193476e-04\n",
      "  7.80108389e-05 1.76992194e-04 2.27521371e-03 4.30196485e-04\n",
      "  6.81808365e-06 6.44896771e-04 3.88607081e-04 8.64056996e-05\n",
      "  1.89501415e-05 1.05638640e-05 3.64591430e-05 1.05461454e-02\n",
      "  1.97171185e-03 1.85908275e-03 7.21592705e-05 4.60432215e-05\n",
      "  1.86294386e-05 1.34154224e-05 3.09893094e-05 7.11471046e-07\n",
      "  4.00345668e-03 2.70251071e-03 1.87919639e-03 1.03261975e-04\n",
      "  1.64603846e-05 1.15173123e-04 1.15620603e-05 7.27522613e-05\n",
      "  2.97016694e-04 1.33004523e-05 5.06926135e-04 2.37687154e-04\n",
      "  1.00072161e-03 5.85579541e-05 6.57324757e-04 9.43159301e-04\n",
      "  3.19313971e-04 4.86285773e-06 3.52482850e-04 1.64540191e-04\n",
      "  1.16200641e-03 4.05056587e-04 3.31058654e-05 2.54526828e-04\n",
      "  5.20587164e-04 1.69743455e-04 6.76184225e-05 2.19980538e-04\n",
      "  1.21656771e-03 1.00881934e-03 9.91267948e-06 1.01815943e-05\n",
      "  3.50745791e-04 3.19579638e-04 8.85746137e-05 1.92137143e-05\n",
      "  5.33000857e-05 2.69437624e-04 6.68771793e-04 4.35331778e-04\n",
      "  2.50929535e-05 1.81578137e-03 8.22064382e-05 3.69649299e-04\n",
      "  5.43095359e-04 3.06223406e-04 2.17259876e-04 6.04425623e-05\n",
      "  7.20215713e-05 9.70498758e-05 9.08492930e-07 3.38421897e-04\n",
      "  1.88921617e-04 4.42251909e-04 1.78856415e-04 1.85244639e-05\n",
      "  4.22699080e-05 3.88347146e-06 5.16412040e-05 6.05780491e-05\n",
      "  6.95714139e-04 4.31270082e-03 2.36703887e-03 2.04623281e-05\n",
      "  5.86145457e-06 7.58304977e-06 2.13873950e-06 3.15985522e-05\n",
      "  2.05308552e-05 1.90991017e-05 1.09025501e-03 6.65505157e-05\n",
      "  1.24444509e-05 1.09169354e-06 2.04020653e-07 1.21763589e-05\n",
      "  3.29187754e-05 5.18701587e-05 3.04218312e-05 2.76536797e-05\n",
      "  4.71364438e-04 5.45090253e-06 1.92506310e-06 6.88565188e-07\n",
      "  1.15823880e-04 1.65828413e-04 1.55075915e-03 1.78751298e-03\n",
      "  2.88241486e-05 3.37275555e-05 2.50261465e-04 5.12404813e-05\n",
      "  2.49575375e-05 1.27290747e-04 1.37459640e-03 6.96998179e-04\n",
      "  5.23260911e-04 6.36798002e-04 3.06006488e-03 9.28329933e-05\n",
      "  1.54514832e-05 1.61091585e-04 6.79206866e-05 3.64134081e-04\n",
      "  1.27756665e-04 5.55478250e-05 1.19105616e-04 1.12513907e-03\n",
      "  1.19851910e-04 4.12246835e-04 6.66325315e-04 2.44920587e-04\n",
      "  5.68281508e-06 3.46872936e-06]]\n",
      "\n",
      "\n",
      "[0. 0. 1. 0.]\n"
     ]
    }
   ],
   "source": [
    "print(X_train[0])\n",
    "print('\\n')\n",
    "print(y_train[0])"
   ]
  },
  {
   "cell_type": "code",
   "execution_count": 19,
   "id": "e1a10bec",
   "metadata": {},
   "outputs": [
    {
     "data": {
      "text/plain": [
       "(277400, 1, 446)"
      ]
     },
     "execution_count": 19,
     "metadata": {},
     "output_type": "execute_result"
    }
   ],
   "source": [
    "X_train.shape"
   ]
  },
  {
   "cell_type": "code",
   "execution_count": 20,
   "id": "2b091ff9",
   "metadata": {
    "scrolled": false
   },
   "outputs": [
    {
     "name": "stdout",
     "output_type": "stream",
     "text": [
      "Model: \"sequential\"\n",
      "_________________________________________________________________\n",
      " Layer (type)                Output Shape              Param #   \n",
      "=================================================================\n",
      " gru (GRU)                   (None, 1, 128)            221184    \n",
      "                                                                 \n",
      " gru_1 (GRU)                 (None, 1, 64)             37248     \n",
      "                                                                 \n",
      " gru_2 (GRU)                 (None, 32)                9408      \n",
      "                                                                 \n",
      " repeat_vector (RepeatVector  (None, 1, 32)            0         \n",
      " )                                                               \n",
      "                                                                 \n",
      " gru_3 (GRU)                 (None, 1, 32)             6336      \n",
      "                                                                 \n",
      " time_distributed (TimeDistr  (None, 1, 446)           14718     \n",
      " ibuted)                                                         \n",
      "                                                                 \n",
      " gru_4 (GRU)                 (None, 1, 64)             98304     \n",
      "                                                                 \n",
      " time_distributed_1 (TimeDis  (None, 1, 446)           28990     \n",
      " tributed)                                                       \n",
      "                                                                 \n",
      " gru_5 (GRU)                 (None, 1, 128)            221184    \n",
      "                                                                 \n",
      " time_distributed_2 (TimeDis  (None, 1, 446)           57534     \n",
      " tributed)                                                       \n",
      "                                                                 \n",
      "=================================================================\n",
      "Total params: 694,906\n",
      "Trainable params: 694,906\n",
      "Non-trainable params: 0\n",
      "_________________________________________________________________\n"
     ]
    }
   ],
   "source": [
    "model = Sequential()\n",
    "model.add(GRU(128, activation='tanh', kernel_regularizer=regularizers.l2(0.00), \n",
    "               input_shape=(X_train.shape[1], X_train.shape[2]), \n",
    "               return_sequences=True))\n",
    "model.add(GRU(64, activation='tanh', return_sequences=True))\n",
    "model.add(GRU(32, activation='tanh', return_sequences=False))\n",
    "\n",
    "model.add(RepeatVector(1))\n",
    "\n",
    "model.add(GRU(32, activation='tanh', return_sequences=True))\n",
    "model.add(TimeDistributed(Dense(X_train.shape[2])))\n",
    "model.add(GRU(64, activation='tanh', return_sequences=True))\n",
    "model.add(TimeDistributed(Dense(X_train.shape[2])))\n",
    "model.add(GRU(128, activation='tanh', return_sequences=True))\n",
    "model.add(TimeDistributed(Dense(X_train.shape[2])))\n",
    "\n",
    "optimizer = tf.keras.optimizers.Adam(learning_rate=0.0001)\n",
    "\n",
    "model.compile(metrics=['accuracy'],\n",
    "                    loss='mse',\n",
    "                    optimizer=optimizer)\n",
    "model.summary()"
   ]
  },
  {
   "cell_type": "code",
   "execution_count": 21,
   "id": "a7b669c8",
   "metadata": {},
   "outputs": [],
   "source": [
    "cp = tf.keras.callbacks.ModelCheckpoint(filepath=\"1autoencoder.h5\",\n",
    "                               mode='min', monitor='val_loss', verbose=0, save_best_only=True)\n",
    "# define our early stopping\n",
    "early_stop = tf.keras.callbacks.EarlyStopping(\n",
    "    monitor='val_loss',\n",
    "    min_delta=0.0001,\n",
    "    patience=10,\n",
    "    verbose=1, \n",
    "    mode='min',\n",
    "    restore_best_weights=True)"
   ]
  },
  {
   "cell_type": "code",
   "execution_count": 22,
   "id": "3935557f",
   "metadata": {
    "scrolled": true
   },
   "outputs": [
    {
     "name": "stdout",
     "output_type": "stream",
     "text": [
      "Epoch 1/150\n",
      "2168/2168 [==============================] - 22s 8ms/step - loss: 0.0030 - accuracy: 0.0580 - val_loss: 0.0026 - val_accuracy: 0.0762\n",
      "Epoch 2/150\n",
      "2168/2168 [==============================] - 15s 7ms/step - loss: 0.0026 - accuracy: 0.0787 - val_loss: 0.0024 - val_accuracy: 0.0836\n",
      "Epoch 3/150\n",
      "2168/2168 [==============================] - 15s 7ms/step - loss: 0.0023 - accuracy: 0.0998 - val_loss: 0.0022 - val_accuracy: 0.1709\n",
      "Epoch 4/150\n",
      "2168/2168 [==============================] - 16s 7ms/step - loss: 0.0021 - accuracy: 0.1595 - val_loss: 0.0020 - val_accuracy: 0.1737\n",
      "Epoch 5/150\n",
      "2168/2168 [==============================] - 15s 7ms/step - loss: 0.0019 - accuracy: 0.1859 - val_loss: 0.0018 - val_accuracy: 0.1965\n",
      "Epoch 6/150\n",
      "2168/2168 [==============================] - 15s 7ms/step - loss: 0.0017 - accuracy: 0.1931 - val_loss: 0.0015 - val_accuracy: 0.2006\n",
      "Epoch 7/150\n",
      "2168/2168 [==============================] - 15s 7ms/step - loss: 0.0014 - accuracy: 0.2191 - val_loss: 0.0013 - val_accuracy: 0.2148\n",
      "Epoch 8/150\n",
      "2168/2168 [==============================] - 15s 7ms/step - loss: 0.0012 - accuracy: 0.2395 - val_loss: 0.0011 - val_accuracy: 0.2592\n",
      "Epoch 9/150\n",
      "2168/2168 [==============================] - 15s 7ms/step - loss: 0.0011 - accuracy: 0.2572 - val_loss: 9.9273e-04 - val_accuracy: 0.2638\n",
      "Epoch 10/150\n",
      "2168/2168 [==============================] - 15s 7ms/step - loss: 9.4902e-04 - accuracy: 0.2718 - val_loss: 8.9391e-04 - val_accuracy: 0.2719\n",
      "Epoch 11/150\n",
      "2168/2168 [==============================] - 15s 7ms/step - loss: 8.5994e-04 - accuracy: 0.2830 - val_loss: 8.1770e-04 - val_accuracy: 0.2825\n",
      "Epoch 12/150\n",
      "2168/2168 [==============================] - 15s 7ms/step - loss: 7.9333e-04 - accuracy: 0.2913 - val_loss: 7.6197e-04 - val_accuracy: 0.2976\n",
      "Epoch 13/150\n",
      "2168/2168 [==============================] - 15s 7ms/step - loss: 7.4166e-04 - accuracy: 0.2995 - val_loss: 7.1608e-04 - val_accuracy: 0.2945\n",
      "Epoch 14/150\n",
      "2168/2168 [==============================] - 15s 7ms/step - loss: 7.0140e-04 - accuracy: 0.3044 - val_loss: 6.8108e-04 - val_accuracy: 0.3034\n",
      "Epoch 15/150\n",
      "2168/2168 [==============================] - 15s 7ms/step - loss: 6.6877e-04 - accuracy: 0.3081 - val_loss: 6.5230e-04 - val_accuracy: 0.3073\n",
      "Epoch 16/150\n",
      "2168/2168 [==============================] - 15s 7ms/step - loss: 6.4243e-04 - accuracy: 0.3133 - val_loss: 6.3189e-04 - val_accuracy: 0.3096\n",
      "Epoch 17/150\n",
      "2168/2168 [==============================] - 15s 7ms/step - loss: 6.1930e-04 - accuracy: 0.3171 - val_loss: 6.0583e-04 - val_accuracy: 0.3056\n",
      "Epoch 18/150\n",
      "2168/2168 [==============================] - 15s 7ms/step - loss: 5.9988e-04 - accuracy: 0.3154 - val_loss: 5.9195e-04 - val_accuracy: 0.2321\n",
      "Epoch 19/150\n",
      "2168/2168 [==============================] - 16s 7ms/step - loss: 5.8254e-04 - accuracy: 0.3154 - val_loss: 5.7262e-04 - val_accuracy: 0.3353\n",
      "Epoch 20/150\n",
      "2168/2168 [==============================] - 15s 7ms/step - loss: 5.6763e-04 - accuracy: 0.3179 - val_loss: 5.5856e-04 - val_accuracy: 0.2499\n",
      "Epoch 21/150\n",
      "2168/2168 [==============================] - 15s 7ms/step - loss: 5.5407e-04 - accuracy: 0.3181 - val_loss: 5.4735e-04 - val_accuracy: 0.3325\n",
      "Epoch 22/150\n",
      "2168/2168 [==============================] - 15s 7ms/step - loss: 5.4213e-04 - accuracy: 0.3153 - val_loss: 5.3447e-04 - val_accuracy: 0.2853\n",
      "Epoch 23/150\n",
      "2168/2168 [==============================] - 15s 7ms/step - loss: 5.3158e-04 - accuracy: 0.3223 - val_loss: 5.2439e-04 - val_accuracy: 0.3367\n",
      "Epoch 24/150\n",
      "2168/2168 [==============================] - 16s 7ms/step - loss: 5.2161e-04 - accuracy: 0.3175 - val_loss: 5.1497e-04 - val_accuracy: 0.2512\n",
      "Epoch 25/150\n",
      "2168/2168 [==============================] - 15s 7ms/step - loss: 5.1304e-04 - accuracy: 0.3177 - val_loss: 5.0711e-04 - val_accuracy: 0.2472\n",
      "Epoch 26/150\n",
      "2168/2168 [==============================] - 15s 7ms/step - loss: 5.0482e-04 - accuracy: 0.3186 - val_loss: 4.9791e-04 - val_accuracy: 0.3487\n",
      "Epoch 27/150\n",
      "2168/2168 [==============================] - 15s 7ms/step - loss: 4.9748e-04 - accuracy: 0.3210 - val_loss: 4.9207e-04 - val_accuracy: 0.2858\n",
      "Epoch 28/150\n",
      "2168/2168 [==============================] - 16s 7ms/step - loss: 4.9041e-04 - accuracy: 0.3206 - val_loss: 4.8548e-04 - val_accuracy: 0.3346\n",
      "Epoch 29/150\n",
      "2168/2168 [==============================] - 15s 7ms/step - loss: 4.8405e-04 - accuracy: 0.3253 - val_loss: 4.7849e-04 - val_accuracy: 0.3740\n",
      "Epoch 30/150\n",
      "2168/2168 [==============================] - 15s 7ms/step - loss: 4.7830e-04 - accuracy: 0.3270 - val_loss: 4.7424e-04 - val_accuracy: 0.3471\n",
      "Epoch 31/150\n",
      "2168/2168 [==============================] - 15s 7ms/step - loss: 4.7274e-04 - accuracy: 0.3278 - val_loss: 4.6741e-04 - val_accuracy: 0.3545\n",
      "Epoch 32/150\n",
      "2168/2168 [==============================] - 15s 7ms/step - loss: 4.6748e-04 - accuracy: 0.3273 - val_loss: 4.6190e-04 - val_accuracy: 0.2847\n",
      "Epoch 33/150\n",
      "2168/2168 [==============================] - 15s 7ms/step - loss: 4.6255e-04 - accuracy: 0.3297 - val_loss: 4.5866e-04 - val_accuracy: 0.2763\n",
      "Epoch 34/150\n",
      "2168/2168 [==============================] - 16s 7ms/step - loss: 4.5813e-04 - accuracy: 0.3320 - val_loss: 4.5350e-04 - val_accuracy: 0.3645\n",
      "Epoch 35/150\n",
      "2168/2168 [==============================] - 16s 7ms/step - loss: 4.5371e-04 - accuracy: 0.3335 - val_loss: 4.5241e-04 - val_accuracy: 0.2991\n",
      "Epoch 36/150\n",
      "2162/2168 [============================>.] - ETA: 0s - loss: 4.4970e-04 - accuracy: 0.3317Restoring model weights from the end of the best epoch: 26.\n",
      "2168/2168 [==============================] - 15s 7ms/step - loss: 4.4976e-04 - accuracy: 0.3317 - val_loss: 4.4632e-04 - val_accuracy: 0.2866\n",
      "Epoch 00036: early stopping\n"
     ]
    }
   ],
   "source": [
    "history = model.fit(X_train, X_train,\n",
    "                    epochs=150,\n",
    "                    batch_size=128,\n",
    "                    shuffle=True,\n",
    "                    validation_data=(X_test, X_test),\n",
    "                    verbose=1,\n",
    "                    callbacks=[cp, early_stop]\n",
    "                    ).history"
   ]
  },
  {
   "cell_type": "code",
   "execution_count": 23,
   "id": "0d57abe9",
   "metadata": {
    "scrolled": false
   },
   "outputs": [
    {
     "data": {
      "image/png": "[encoded data removed]",
      "text/plain": [
       "<Figure size 640x480 with 1 Axes>"
      ]
     },
     "metadata": {
      "needs_background": "light"
     },
     "output_type": "display_data"
    }
   ],
   "source": [
    "# plot the training losses\n",
    "fig, ax = plt.subplots(figsize=(8, 6), dpi=80)\n",
    "ax.plot(model.history.history['loss'], 'b', label='Train', linewidth=2)\n",
    "ax.plot(model.history.history['val_loss'], 'r', label='Validation', linewidth=2)\n",
    "ax.set_title('Model loss', fontsize=16)\n",
    "ax.set_ylabel('Loss (mae)')\n",
    "ax.set_xlabel('Epoch')\n",
    "ax.legend(loc='upper right')\n",
    "plt.show()"
   ]
  },
  {
   "cell_type": "code",
   "execution_count": 16,
   "id": "13bd3655",
   "metadata": {},
   "outputs": [],
   "source": [
    "from keras.models import load_model\n",
    "model = tf.keras.models.load_model(\"1autoencoder.h5\")"
   ]
  },
  {
   "cell_type": "code",
   "execution_count": 17,
   "id": "4eef37b9",
   "metadata": {},
   "outputs": [],
   "source": [
    "test_x_predictions = model.predict(X_train)"
   ]
  },
  {
   "cell_type": "code",
   "execution_count": 18,
   "id": "09d435be",
   "metadata": {},
   "outputs": [
    {
     "data": {
      "text/plain": [
       "(277400, 1, 446)"
      ]
     },
     "execution_count": 18,
     "metadata": {},
     "output_type": "execute_result"
    }
   ],
   "source": [
    "test_x_predictions.shape"
   ]
  },
  {
   "cell_type": "code",
   "execution_count": 19,
   "id": "0581d2ef",
   "metadata": {},
   "outputs": [],
   "source": [
    "X_train_reshape = np.reshape(X_train, (X_train.shape[0], 446))\n",
    "predictions_reshape = np.reshape(test_x_predictions, (test_x_predictions.shape[0], 446))"
   ]
  },
  {
   "cell_type": "code",
   "execution_count": 21,
   "id": "aa25216a",
   "metadata": {},
   "outputs": [],
   "source": [
    "mse = np.mean(np.power(X_train_reshape - predictions_reshape, 2), axis=1)"
   ]
  },
  {
   "cell_type": "code",
   "execution_count": 22,
   "id": "bf3ea88d",
   "metadata": {},
   "outputs": [
    {
     "data": {
      "text/plain": [
       "(277400,)"
      ]
     },
     "execution_count": 22,
     "metadata": {},
     "output_type": "execute_result"
    }
   ],
   "source": [
    "mse.shape"
   ]
  },
  {
   "cell_type": "code",
   "execution_count": 25,
   "id": "43e08d05",
   "metadata": {},
   "outputs": [],
   "source": [
    "error_df = pd.concat([pd.DataFrame(mse),pd.DataFrame(y_train)], ignore_index=True, axis=1)\n",
    "error_df.columns = ['Reconstruction_error', 'True_class']"
   ]
  },
  {
   "cell_type": "code",
   "execution_count": 39,
   "id": "35d2d880",
   "metadata": {},
   "outputs": [],
   "source": [
    "normal = np.array(error_df[error_df['True_class'] == float(0.0)])\n",
    "DoS = np.array(error_df[error_df['True_class'] == float(1.0)])\n",
    "Fuzz = np.array(error_df[error_df['True_class'] == float(2.0)])\n",
    "Replay = np.array(error_df[error_df['True_class'] == float(3.0)])"
   ]
  },
  {
   "cell_type": "code",
   "execution_count": null,
   "id": "54ec5e82",
   "metadata": {},
   "outputs": [],
   "source": []
  },
  {
   "cell_type": "code",
   "execution_count": 64,
   "id": "8f73fbe8",
   "metadata": {},
   "outputs": [
    {
     "name": "stdout",
     "output_type": "stream",
     "text": [
      "0.01070173362800247\n",
      "1.0290645652233826e-06\n",
      "5.856950807288673e-05\n"
     ]
    }
   ],
   "source": [
    "print(max(normal[:,0]))\n",
    "print(min(normal[:,0]))\n",
    "print(normal[:,0].mean())"
   ]
  },
  {
   "cell_type": "code",
   "execution_count": 65,
   "id": "08b3fb98",
   "metadata": {},
   "outputs": [
    {
     "name": "stdout",
     "output_type": "stream",
     "text": [
      "0.002688094643869633\n",
      "4.505643635572588e-05\n",
      "0.001456169491932355\n"
     ]
    }
   ],
   "source": [
    "print(max(DoS[:,0]))\n",
    "print(min(DoS[:,0]))\n",
    "print(DoS[:,0].mean())"
   ]
  },
  {
   "cell_type": "code",
   "execution_count": 66,
   "id": "5bc40dba",
   "metadata": {},
   "outputs": [
    {
     "name": "stdout",
     "output_type": "stream",
     "text": [
      "0.00636286829939366\n",
      "0.000541671525892088\n",
      "0.001040249511524978\n"
     ]
    }
   ],
   "source": [
    "print(max(Fuzz[:,0]))\n",
    "print(min(Fuzz[:,0]))\n",
    "print(Fuzz[:,0].mean())"
   ]
  },
  {
   "cell_type": "code",
   "execution_count": 67,
   "id": "9eba7597",
   "metadata": {},
   "outputs": [
    {
     "name": "stdout",
     "output_type": "stream",
     "text": [
      "3.545794286468845e-05\n",
      "1.0935909849780009e-06\n",
      "5.37078792762091e-06\n"
     ]
    }
   ],
   "source": [
    "print(max(Replay[:,0]))\n",
    "print(min(Replay[:,0]))\n",
    "print(Replay[:,0].mean())"
   ]
  },
  {
   "cell_type": "code",
   "execution_count": 72,
   "id": "2f0204c0",
   "metadata": {},
   "outputs": [
    {
     "data": {
      "image/png": "[encoded data removed]",
      "text/plain": [
       "<Figure size 960x640 with 1 Axes>"
      ]
     },
     "metadata": {
      "needs_background": "light"
     },
     "output_type": "display_data"
    }
   ],
   "source": [
    "threshold_fixed = 0.0004\n",
    "groups = error_df.groupby('True_class')\n",
    "\n",
    "fig, ax = plt.subplots(figsize=(12, 8), dpi=80)\n",
    "for name, group in groups:\n",
    "    \n",
    "    temp = \"\"\n",
    "    if name == 0.0:\n",
    "        temp= \"Normal\" \n",
    "    elif name == 1.0:\n",
    "        temp= \"DoS\"\n",
    "    elif name == 2.0:\n",
    "        temp= \"Fuzz\"\n",
    "    else:\n",
    "        temp= \"Replay\"\n",
    "    ax.plot(group.index, group.Reconstruction_error, marker='o', ms=3.5, linestyle='',  label = temp  )\n",
    "ax.hlines(threshold_fixed, ax.get_xlim()[0], ax.get_xlim()[1], colors=\"turquoise\", zorder=100, label='Threshold')\n",
    "\n",
    "ax.legend()\n",
    "plt.title(\"Reconstruction error for normal and attack data\")\n",
    "plt.ylabel(\"Reconstruction error\")\n",
    "plt.xlabel(\"Data point index\")\n",
    "plt.show()"
   ]
  },
  {
   "cell_type": "code",
   "execution_count": 68,
   "id": "347446d3",
   "metadata": {},
   "outputs": [
    {
     "name": "stdout",
     "output_type": "stream",
     "text": [
      "Explained variance ratio (first two components): [0.38478667 0.07462449]\n"
     ]
    },
    {
     "data": {
      "text/plain": [
       "<Figure size 432x288 with 0 Axes>"
      ]
     },
     "metadata": {},
     "output_type": "display_data"
    },
    {
     "data": {
      "image/png": "[encoded data removed]",
      "text/plain": [
       "<Figure size 864x576 with 1 Axes>"
      ]
     },
     "metadata": {
      "needs_background": "light"
     },
     "output_type": "display_data"
    }
   ],
   "source": [
    "# Running K means on 5 clusters\n",
    "\n",
    "kmeans = KMeans(n_clusters=4, random_state=2)\n",
    "kmeans = kmeans.fit(predictions_reshape)\n",
    "\n",
    "predictions = kmeans.predict(predictions_reshape)\n",
    "\n",
    "# Running PCA to Visualize the data\n",
    "\n",
    "from sklearn.decomposition import PCA\n",
    "from sklearn.discriminant_analysis import LinearDiscriminantAnalysis\n",
    "\n",
    "X = predictions_reshape\n",
    "y_num = predictions\n",
    "\n",
    "target_names = [\"Cluster 0\",\"Cluster 1\",\"Cluster 2\", \"Cluster 3\"]\n",
    "\n",
    "pca = PCA(n_components=2, random_state = 453)\n",
    "X_r = pca.fit(X).transform(X)\n",
    "\n",
    "\n",
    "# Percentage of variance explained for each components\n",
    "print('Explained variance ratio (first two components): %s' % str(pca.explained_variance_ratio_))\n",
    "\n",
    "# Plotting the data\n",
    "plt.figure()\n",
    "plt.figure(figsize=(12,8))\n",
    "colors = ['navy', 'turquoise', 'darkorange', 'red']\n",
    "lw = 2\n",
    "\n",
    "\n",
    "for color, i, target_name in zip(colors, [0, 1, 2, 3], target_names):\n",
    "    plt.scatter(X_r[y_num == i, 0], X_r[y_num == i, 1], color=color, alpha=.8, lw=lw,label=target_name)\n",
    "    \n",
    "plt.legend(loc='best', shadow=False, scatterpoints=1)\n",
    "plt.legend(bbox_to_anchor=(1.05, 1), loc=2, borderaxespad=0.6)   \n",
    "plt.title('PCA of Items')\n",
    "plt.show()"
   ]
  },
  {
   "cell_type": "code",
   "execution_count": 70,
   "id": "28f73940",
   "metadata": {},
   "outputs": [],
   "source": [
    "test_predictions = model.predict(X_test)\n",
    "X_test_reshape = np.reshape(X_test, (X_test.shape[0], 446))\n",
    "predictions_reshape_test = np.reshape(test_predictions, (test_predictions.shape[0], 446))"
   ]
  },
  {
   "cell_type": "code",
   "execution_count": 75,
   "id": "4945d26e",
   "metadata": {},
   "outputs": [
    {
     "name": "stdout",
     "output_type": "stream",
     "text": [
      "Explained variance ratio (first two components): [0.3835688 0.0812192]\n"
     ]
    },
    {
     "data": {
      "text/plain": [
       "<Figure size 432x288 with 0 Axes>"
      ]
     },
     "metadata": {},
     "output_type": "display_data"
    },
    {
     "data": {
      "image/png": "[encoded data removed]",
      "text/plain": [
       "<Figure size 864x576 with 1 Axes>"
      ]
     },
     "metadata": {
      "needs_background": "light"
     },
     "output_type": "display_data"
    }
   ],
   "source": [
    "# Running K means on 5 clusters\n",
    "\n",
    "kmeans = KMeans(n_clusters=4, random_state=2)\n",
    "kmeans = kmeans.fit(predictions_reshape_test)\n",
    "\n",
    "predictions = kmeans.predict(predictions_reshape_test)\n",
    "\n",
    "# Running PCA to Visualize the data\n",
    "\n",
    "from sklearn.decomposition import PCA\n",
    "from sklearn.discriminant_analysis import LinearDiscriminantAnalysis\n",
    "\n",
    "X = predictions_reshape_test\n",
    "y_num = predictions\n",
    "\n",
    "target_names = [\"Cluster 0\",\"Cluster 1\",\"Cluster 2\", \"Cluster 3\"]\n",
    "\n",
    "pca = PCA(n_components=2, random_state = 453)\n",
    "X_r = pca.fit(X).transform(X)\n",
    "\n",
    "\n",
    "# Percentage of variance explained for each components\n",
    "print('Explained variance ratio (first two components): %s' % str(pca.explained_variance_ratio_))\n",
    "\n",
    "# Plotting the data\n",
    "plt.figure()\n",
    "plt.figure(figsize=(12,8))\n",
    "colors = ['darkorange', 'navy', 'turquoise', 'red', 'darkorange']\n",
    "lw = 2\n",
    "\n",
    "\n",
    "for color, i, target_name in zip(colors, [0, 1, 2, 3], target_names):\n",
    "    plt.scatter(X_r[y_num == i, 0], X_r[y_num == i, 1], color=color, alpha=.8, lw=lw,label=target_name)\n",
    "    \n",
    "plt.legend(loc='best', shadow=False, scatterpoints=1)\n",
    "plt.legend(bbox_to_anchor=(1.05, 1), loc=2, borderaxespad=0.6)   \n",
    "plt.title('PCA of Items')\n",
    "plt.show()"
   ]
  },
  {
   "cell_type": "code",
   "execution_count": null,
   "id": "2fff40c5",
   "metadata": {},
   "outputs": [],
   "source": []
  }
 ],
 "metadata": {
  "kernelspec": {
   "display_name": "Python 3 (ipykernel)",
   "language": "python",
   "name": "python3"
  },
  "language_info": {
   "codemirror_mode": {
    "name": "ipython",
    "version": 3
   },
   "file_extension": ".py",
   "mimetype": "text/x-python",
   "name": "python",
   "nbconvert_exporter": "python",
   "pygments_lexer": "ipython3",
   "version": "3.9.7"
  }
 },
 "nbformat": 4,
 "nbformat_minor": 5
}
